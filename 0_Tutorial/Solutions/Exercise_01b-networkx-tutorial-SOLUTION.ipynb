{
 "cells": [
  {
   "cell_type": "markdown",
   "metadata": {
    "slideshow": {
     "slide_type": "slide"
    }
   },
   "source": [
    "# Exercise 01b - `networkx` tutorial\n",
    "\n",
    "In this exercise, we will introduce data science and network analysis basics with `networkx`."
   ]
  },
  {
   "cell_type": "markdown",
   "metadata": {},
   "source": [
    "## 1. Introduction to `networkx`\n",
    "    \n",
    "Now that we know the basics of `python` from Exercise 1a, let us introduce some basics of `networkx`, a network analysis package.\n",
    "\n",
    "<span style=\"color:red\">**TODO:** Import `networkx` and assign it the local alias `nx`.</span>"
   ]
  },
  {
   "cell_type": "code",
   "execution_count": 1,
   "metadata": {},
   "outputs": [],
   "source": [
    "import networkx as nx"
   ]
  },
  {
   "cell_type": "markdown",
   "metadata": {},
   "source": [
    "If the `import` statement completes without error, the installation was successful and we can now use `networkx` to visualise and analyse complex networks. \n",
    "\n",
    "<span style=\"color:red\">**TODO:** Create an empty directed network instance using `DiGraph`.</span>"
   ]
  },
  {
   "cell_type": "code",
   "execution_count": 2,
   "metadata": {},
   "outputs": [],
   "source": [
    "G = nx.DiGraph()"
   ]
  },
  {
   "cell_type": "markdown",
   "metadata": {},
   "source": [
    "We can add nodes and edges by calling the functions `add_node` and `add_edge`. \n",
    "\n",
    "<span style=\"color:red\">**TODO:** Add three nodes 'a', 'b', and 'c' and two edges `(a, b)` and `(b,c)` to the network and print a summary.</span>"
   ]
  },
  {
   "cell_type": "code",
   "execution_count": 3,
   "metadata": {},
   "outputs": [
    {
     "name": "stdout",
     "output_type": "stream",
     "text": [
      "DiGraph with 3 nodes and 2 edges\n"
     ]
    }
   ],
   "source": [
    "# Add nodes explicitly (optional)\n",
    "G.add_nodes_from(['a', 'b', 'c'])\n",
    "\n",
    "# Add edges; if a node doesn't exist, it is created automatically.\n",
    "G.add_edge('a', 'b')\n",
    "G.add_edge('b', 'c')\n",
    "print(G)"
   ]
  },
  {
   "cell_type": "markdown",
   "metadata": {},
   "source": [
    "We can now plot the network using `nx.draw(G)`.\n",
    "\n",
    "<span style=\"color:red\">**TODO:** Visualize the network. Try to add a layout, e.g. nx.spring_layout()</span>"
   ]
  },
  {
   "cell_type": "code",
   "execution_count": 4,
   "metadata": {},
   "outputs": [
    {
     "data": {
      "image/png": "[encoded data removed]",
      "text/plain": [
       "<Figure size 640x480 with 1 Axes>"
      ]
     },
     "metadata": {},
     "output_type": "display_data"
    }
   ],
   "source": [
    "pos = nx.spring_layout(G)  # use a spring layout for positioning\n",
    "nx.draw(G, pos, with_labels=True, node_color='lightblue', edge_color='gray', node_size=800, arrows=True)"
   ]
  },
  {
   "cell_type": "markdown",
   "metadata": {},
   "source": [
    "If we do not want to explicitly add isolated nodes, we can omit the call to `add_node`. We can simply add edges, which will automatically add those nodes that haven't been created before.\n",
    "\n",
    "<span style=\"color:red\">**TODO:** Add two edges `(c,d)` and `(d, a)` to the network and visualise it.</span>"
   ]
  },
  {
   "cell_type": "code",
   "execution_count": 5,
   "metadata": {},
   "outputs": [],
   "source": [
    "G.add_edge('c', 'd')\n",
    "G.add_edge('d', 'a')"
   ]
  },
  {
   "cell_type": "markdown",
   "metadata": {},
   "source": [
    "if we want to count the number of nodes or edges, we can use the `number_of_nodes()` and `number_of_edges()` functions.\n",
    "\n",
    "<span style=\"color:red\">**TODO:** Print the number of nodes and links of this network.</span>"
   ]
  },
  {
   "cell_type": "code",
   "execution_count": 6,
   "metadata": {},
   "outputs": [
    {
     "name": "stdout",
     "output_type": "stream",
     "text": [
      "Network has 4 nodes and 4 edges\n"
     ]
    }
   ],
   "source": [
    "print('Network has {} nodes and {} edges'.format(G.number_of_nodes(), G.number_of_edges()))"
   ]
  },
  {
   "cell_type": "markdown",
   "metadata": {},
   "source": [
    "The `nodes` dictionary of a `networkx` object contains all nodes of the network. We can use a for loop to iterate through its elements. \n",
    "\n",
    "<span style=\"color:red\">**TODO:** Use the `nodes` dictionary of the class `Network` to print all nodes.</span>"
   ]
  },
  {
   "cell_type": "code",
   "execution_count": 7,
   "metadata": {},
   "outputs": [
    {
     "name": "stdout",
     "output_type": "stream",
     "text": [
      "a {}\n",
      "b {}\n",
      "c {}\n",
      "d {}\n"
     ]
    }
   ],
   "source": [
    "for node, data in G.nodes(data=True):\n",
    "    print(node, data)"
   ]
  },
  {
   "cell_type": "markdown",
   "metadata": {},
   "source": [
    "We can access properties of individual nodes by indexing the `nodes` dictionary with the node name.\n",
    "\n",
    "<span style=\"color:red\">**TODO:** Print the properties of node `a`.</span>"
   ]
  },
  {
   "cell_type": "code",
   "execution_count": 8,
   "metadata": {},
   "outputs": [
    {
     "data": {
      "text/plain": [
       "{}"
      ]
     },
     "execution_count": 8,
     "metadata": {},
     "output_type": "execute_result"
    }
   ],
   "source": [
    "G.nodes['a']"
   ]
  },
  {
   "cell_type": "markdown",
   "metadata": {},
   "source": [
    "We observe that the `Network` class stores a dictionary for each node. This dictionary contains node properties as key-value pairs. Default properties for an undirected network are `inweight` and `outweight` which count the weights of edges, and the `degree`, i.e. the number of neighbours to which a node is connected. For directed networks, we have an `indegree` and `outdegree`, which count the number of links that point to a node and away from the node respectively. Since the node properties are stored in a dictionary, we can store arbitrary additional node properties as key value pairs. \n",
    "\n",
    "<span style=\"color:red\">**TODO:** Set an age property for each node in the network.</span>"
   ]
  },
  {
   "cell_type": "code",
   "execution_count": 9,
   "metadata": {},
   "outputs": [],
   "source": [
    "# Set an age property for each node.\n",
    "G.nodes['a']['age'] = 48\n",
    "G.nodes['b']['age'] = 24\n",
    "G.nodes['c']['age'] = 33\n",
    "G.nodes['d']['age'] = 19"
   ]
  },
  {
   "cell_type": "markdown",
   "metadata": {},
   "source": [
    "Printing the `nodes` dictionary again reveals that an age property was added to the property dictionaries of each node.\n",
    "\n",
    "<span style=\"color:red\">**TODO:** Iterate through all nodes and print all node properties.</span>"
   ]
  },
  {
   "cell_type": "code",
   "execution_count": 10,
   "metadata": {},
   "outputs": [
    {
     "name": "stdout",
     "output_type": "stream",
     "text": [
      "a {'age': 48}\n",
      "b {'age': 24}\n",
      "c {'age': 33}\n",
      "d {'age': 19}\n"
     ]
    }
   ],
   "source": [
    "for node, data in G.nodes(data=True):\n",
    "    print(node, data)"
   ]
  },
  {
   "cell_type": "markdown",
   "metadata": {},
   "source": [
    "Finally, we are often interested to search for those nodes in a network which have certain properties. For this we can use the `find_nodes` function. It returns all nodes whose properties match a certain condition, which we can set using a lambda expression.\n",
    "\n",
    "<span style=\"color:red\">**TODO:** Print all nodes whose age is larger than 40.</span>"
   ]
  },
  {
   "cell_type": "code",
   "execution_count": 11,
   "metadata": {},
   "outputs": [
    {
     "name": "stdout",
     "output_type": "stream",
     "text": [
      "\n",
      "Nodes with age > 40: ['a']\n"
     ]
    }
   ],
   "source": [
    "older_than_40 = [node for node, data in G.nodes(data=True) if data.get('age', 0) > 40]\n",
    "print(\"\\nNodes with age > 40:\", older_than_40)"
   ]
  },
  {
   "cell_type": "markdown",
   "metadata": {},
   "source": [
    "The `edges` dictionary of the network contains all edges (links) in the network, along with their properties:\n",
    "\n",
    "<span style=\"color:red\">**TODO:** Iterate through the edge dictionary of the `network` instance</span>"
   ]
  },
  {
   "cell_type": "code",
   "execution_count": 12,
   "metadata": {},
   "outputs": [
    {
     "name": "stdout",
     "output_type": "stream",
     "text": [
      "('a', 'b') {}\n",
      "('b', 'c') {}\n",
      "('c', 'd') {}\n",
      "('d', 'a') {}\n"
     ]
    }
   ],
   "source": [
    "for u, v, data in G.edges(data=True):\n",
    "    print((u, v), data)"
   ]
  },
  {
   "cell_type": "markdown",
   "metadata": {},
   "source": [
    "We see that each edge is stored as a python `tuple`, where the elements are the source and target node. Just like for the nodes, each edge can contain arbitrary attributes that are stored in a dictionary. We can add a `weight` attribute which counts the number of edges between two nodes. We can add weighte dedges with the function `add_weighted_edges_from`.\n",
    "\n",
    "<span style=\"color:red\">**TODO:** Set the weight attribute of each edge to 1 and then set one edge's weight to 2. </span>"
   ]
  },
  {
   "cell_type": "code",
   "execution_count": 13,
   "metadata": {},
   "outputs": [],
   "source": [
    "# add the 'weight' property to each existing edge\n",
    "G.add_weighted_edges_from([(u, v, 1) for u, v in G.edges])\n",
    "# G.add_edge('c', 'd', weight=1)\n",
    "G.add_edge('a', 'b', weight=2)"
   ]
  },
  {
   "cell_type": "markdown",
   "metadata": {},
   "source": [
    "Just like for nodes, we can search for edges that exhibit certain attributes. \n",
    "<span style=\"color:red\">**TODO:** Print all edges that have a weight larger than 1.0</span>"
   ]
  },
  {
   "cell_type": "code",
   "execution_count": 14,
   "metadata": {},
   "outputs": [
    {
     "name": "stdout",
     "output_type": "stream",
     "text": [
      "\n",
      "Edges with weight > 1.0: [('a', 'b', {'weight': 2})]\n"
     ]
    }
   ],
   "source": [
    "high_weight_edges = [(u, v, data) for u, v, data in G.edges(data=True) if data.get('weight', 1) > 1.0]\n",
    "print(\"\\nEdges with weight > 1.0:\", high_weight_edges)"
   ]
  },
  {
   "cell_type": "markdown",
   "metadata": {},
   "source": [
    "Finally, we can also remove nodes or edges. Importantly, we assume that a network can contain isolated nodes (i.e. nodes with no incident edges), while it can (obviously) only contain edges between nodes that actually exist. \n",
    "\n",
    "This has the important implication that a call to `remove_node` will remove all edges incident to the removed node. A call to `remove_edge` on the other hand, does not remove the nodes to which the edge is connected, thus possibly isolating the node.\n",
    "\n",
    "<span style=\"color:red\">**TODO:** Remove node `a` as well as edge `(c,d)` and visualise the remaining network</span>"
   ]
  },
  {
   "cell_type": "code",
   "execution_count": 15,
   "metadata": {},
   "outputs": [
    {
     "data": {
      "image/png": "[encoded data removed]",
      "text/plain": [
       "<Figure size 640x480 with 1 Axes>"
      ]
     },
     "metadata": {},
     "output_type": "display_data"
    }
   ],
   "source": [
    "if 'a' in G:\n",
    "    G.remove_node('a')\n",
    "\n",
    "# Remove edge (c, d) if it exists.\n",
    "if G.has_edge('c', 'd'):\n",
    "    G.remove_edge('c', 'd')\n",
    "\n",
    "nx.draw(G, with_labels=True, node_color='lightcoral', edge_color='gray', node_size=800, arrows=True)"
   ]
  },
  {
   "cell_type": "markdown",
   "metadata": {},
   "source": [
    "## 2. Reading and writing network data\n",
    "\n",
    "In the course, we will often analyse real-world data on complex networks. The simplest way to store such data is in terms of adjacency lists, i.e. a text file where each line contains the source and target of an edge, separated by a special character.\n",
    "\n",
    "<span style=\"color:red\">**TODO**: Store the example network in a file `01_example_network.edges` and take a look at the generated file</span>"
   ]
  },
  {
   "cell_type": "code",
   "execution_count": 30,
   "metadata": {},
   "outputs": [],
   "source": [
    "nx.write_edgelist(G, \"data/01_example_network.edges\", delimiter=\",\")"
   ]
  },
  {
   "cell_type": "markdown",
   "metadata": {},
   "source": [
    "We can load network data files using the function `read_edgelist`. Test what the `delimiter` and `create_using` parameters do.\n",
    "<span style=\"color:red\">**TODO**: Load the example network from the file `01_example_network.edges`</span>"
   ]
  },
  {
   "cell_type": "code",
   "execution_count": 31,
   "metadata": {},
   "outputs": [],
   "source": [
    "G_new = nx.read_edgelist(\"data/01_example_network.edges\", delimiter=\",\", create_using=nx.DiGraph())"
   ]
  },
  {
   "cell_type": "code",
   "execution_count": 33,
   "metadata": {},
   "outputs": [
    {
     "name": "stdout",
     "output_type": "stream",
     "text": [
      "DiGraph with 2 nodes and 1 edges\n"
     ]
    }
   ],
   "source": [
    "print(G_new)"
   ]
  },
  {
   "cell_type": "markdown",
   "metadata": {},
   "source": [
    "## 3. Visualising networks\n",
    "\n"
   ]
  },
  {
   "cell_type": "markdown",
   "metadata": {},
   "source": [
    "We can customize the style of the network visualization by passing a parameter dictionary `style`. \n",
    "\n",
    "<span style=\"color:red\">**TODO**: Create a parameter dictionary `style` that assigns individual colors to nodes, and adjust node size and edge width and color.</span>"
   ]
  },
  {
   "cell_type": "code",
   "execution_count": 36,
   "metadata": {},
   "outputs": [
    {
     "name": "stdout",
     "output_type": "stream",
     "text": [
      "Help on function draw_networkx in module networkx.drawing.nx_pylab:\n",
      "\n",
      "draw_networkx(G, pos=None, arrows=None, with_labels=True, **kwds)\n",
      "    Draw the graph G using Matplotlib.\n",
      "\n",
      "    Draw the graph with Matplotlib with options for node positions,\n",
      "    labeling, titles, and many other drawing features.\n",
      "    See draw() for simple drawing without labels or axes.\n",
      "\n",
      "    Parameters\n",
      "    ----------\n",
      "    G : graph\n",
      "        A networkx graph\n",
      "\n",
      "    pos : dictionary, optional\n",
      "        A dictionary with nodes as keys and positions as values.\n",
      "        If not specified a spring layout positioning will be computed.\n",
      "        See :py:mod:`networkx.drawing.layout` for functions that\n",
      "        compute node positions.\n",
      "\n",
      "    arrows : bool or None, optional (default=None)\n",
      "        If `None`, directed graphs draw arrowheads with\n",
      "        `~matplotlib.patches.FancyArrowPatch`, while undirected graphs draw edges\n",
      "        via `~matplotlib.collections.LineCollection` for speed.\n",
      "        If `True`, draw arrowheads with FancyArrowPatches (bendable and stylish).\n",
      "        If `False`, draw edges using LineCollection (linear and fast).\n",
      "        For directed graphs, if True draw arrowheads.\n",
      "        Note: Arrows will be the same color as edges.\n",
      "\n",
      "    arrowstyle : str (default='-\\|>' for directed graphs)\n",
      "        For directed graphs, choose the style of the arrowsheads.\n",
      "        For undirected graphs default to '-'\n",
      "\n",
      "        See `matplotlib.patches.ArrowStyle` for more options.\n",
      "\n",
      "    arrowsize : int or list (default=10)\n",
      "        For directed graphs, choose the size of the arrow head's length and\n",
      "        width. A list of values can be passed in to assign a different size for arrow head's length and width.\n",
      "        See `matplotlib.patches.FancyArrowPatch` for attribute `mutation_scale`\n",
      "        for more info.\n",
      "\n",
      "    with_labels :  bool (default=True)\n",
      "        Set to True to draw labels on the nodes.\n",
      "\n",
      "    ax : Matplotlib Axes object, optional\n",
      "        Draw the graph in the specified Matplotlib axes.\n",
      "\n",
      "    nodelist : list (default=list(G))\n",
      "        Draw only specified nodes\n",
      "\n",
      "    edgelist : list (default=list(G.edges()))\n",
      "        Draw only specified edges\n",
      "\n",
      "    node_size : scalar or array (default=300)\n",
      "        Size of nodes.  If an array is specified it must be the\n",
      "        same length as nodelist.\n",
      "\n",
      "    node_color : color or array of colors (default='#1f78b4')\n",
      "        Node color. Can be a single color or a sequence of colors with the same\n",
      "        length as nodelist. Color can be string or rgb (or rgba) tuple of\n",
      "        floats from 0-1. If numeric values are specified they will be\n",
      "        mapped to colors using the cmap and vmin,vmax parameters. See\n",
      "        matplotlib.scatter for more details.\n",
      "\n",
      "    node_shape :  string (default='o')\n",
      "        The shape of the node.  Specification is as matplotlib.scatter\n",
      "        marker, one of 'so^>v<dph8'.\n",
      "\n",
      "    alpha : float or None (default=None)\n",
      "        The node and edge transparency\n",
      "\n",
      "    cmap : Matplotlib colormap, optional\n",
      "        Colormap for mapping intensities of nodes\n",
      "\n",
      "    vmin,vmax : float, optional\n",
      "        Minimum and maximum for node colormap scaling\n",
      "\n",
      "    linewidths : scalar or sequence (default=1.0)\n",
      "        Line width of symbol border\n",
      "\n",
      "    width : float or array of floats (default=1.0)\n",
      "        Line width of edges\n",
      "\n",
      "    edge_color : color or array of colors (default='k')\n",
      "        Edge color. Can be a single color or a sequence of colors with the same\n",
      "        length as edgelist. Color can be string or rgb (or rgba) tuple of\n",
      "        floats from 0-1. If numeric values are specified they will be\n",
      "        mapped to colors using the edge_cmap and edge_vmin,edge_vmax parameters.\n",
      "\n",
      "    edge_cmap : Matplotlib colormap, optional\n",
      "        Colormap for mapping intensities of edges\n",
      "\n",
      "    edge_vmin,edge_vmax : floats, optional\n",
      "        Minimum and maximum for edge colormap scaling\n",
      "\n",
      "    style : string (default=solid line)\n",
      "        Edge line style e.g.: '-', '--', '-.', ':'\n",
      "        or words like 'solid' or 'dashed'.\n",
      "        (See `matplotlib.patches.FancyArrowPatch`: `linestyle`)\n",
      "\n",
      "    labels : dictionary (default=None)\n",
      "        Node labels in a dictionary of text labels keyed by node\n",
      "\n",
      "    font_size : int (default=12 for nodes, 10 for edges)\n",
      "        Font size for text labels\n",
      "\n",
      "    font_color : color (default='k' black)\n",
      "        Font color string. Color can be string or rgb (or rgba) tuple of\n",
      "        floats from 0-1.\n",
      "\n",
      "    font_weight : string (default='normal')\n",
      "        Font weight\n",
      "\n",
      "    font_family : string (default='sans-serif')\n",
      "        Font family\n",
      "\n",
      "    label : string, optional\n",
      "        Label for graph legend\n",
      "\n",
      "    hide_ticks : bool, optional\n",
      "        Hide ticks of axes. When `True` (the default), ticks and ticklabels\n",
      "        are removed from the axes. To set ticks and tick labels to the pyplot default,\n",
      "        use ``hide_ticks=False``.\n",
      "\n",
      "    kwds : optional keywords\n",
      "        See networkx.draw_networkx_nodes(), networkx.draw_networkx_edges(), and\n",
      "        networkx.draw_networkx_labels() for a description of optional keywords.\n",
      "\n",
      "    Notes\n",
      "    -----\n",
      "    For directed graphs, arrows  are drawn at the head end.  Arrows can be\n",
      "    turned off with keyword arrows=False.\n",
      "\n",
      "    Examples\n",
      "    --------\n",
      "    >>> G = nx.dodecahedral_graph()\n",
      "    >>> nx.draw(G)\n",
      "    >>> nx.draw(G, pos=nx.spring_layout(G))  # use spring layout\n",
      "\n",
      "    >>> import matplotlib.pyplot as plt\n",
      "    >>> limits = plt.axis(\"off\")  # turn off axis\n",
      "\n",
      "    Also see the NetworkX drawing examples at\n",
      "    https://networkx.org/documentation/latest/auto_examples/index.html\n",
      "\n",
      "    See Also\n",
      "    --------\n",
      "    draw\n",
      "    draw_networkx_nodes\n",
      "    draw_networkx_edges\n",
      "    draw_networkx_labels\n",
      "    draw_networkx_edge_labels\n",
      "\n"
     ]
    }
   ],
   "source": [
    "help(nx.draw_networkx)"
   ]
  },
  {
   "cell_type": "code",
   "execution_count": 39,
   "metadata": {},
   "outputs": [
    {
     "data": {
      "image/png": "[encoded data removed]",
      "text/plain": [
       "<Figure size 640x480 with 1 Axes>"
      ]
     },
     "metadata": {},
     "output_type": "display_data"
    }
   ],
   "source": [
    "node_colors = []\n",
    "for node in G_new.nodes():\n",
    "    # For example, assign red color to node 'c' and a default color to others.\n",
    "    node_colors.append('#cc6666' if node == 'c' else '#aacc99')\n",
    "\n",
    "style = {\n",
    "    'node_size': 800,\n",
    "    'node_color': node_colors,\n",
    "    'edge_color': '#ffaaaa',\n",
    "    'width': 10\n",
    "}\n",
    "\n",
    "nx.draw_networkx(G_new, pos, **style)"
   ]
  }
 ],
 "metadata": {
  "kernelspec": {
   "display_name": "tutorial_venv_new",
   "language": "python",
   "name": "python3"
  },
  "language_info": {
   "codemirror_mode": {
    "name": "ipython",
    "version": 3
   },
   "file_extension": ".py",
   "mimetype": "text/x-python",
   "name": "python",
   "nbconvert_exporter": "python",
   "pygments_lexer": "ipython3",
   "version": "3.12.3"
  }
 },
 "nbformat": 4,
 "nbformat_minor": 1
}
