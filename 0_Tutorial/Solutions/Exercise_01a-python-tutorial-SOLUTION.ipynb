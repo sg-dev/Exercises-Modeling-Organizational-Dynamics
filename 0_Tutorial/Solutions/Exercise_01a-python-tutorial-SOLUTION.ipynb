{
 "cells": [
  {
   "cell_type": "markdown",
   "metadata": {
    "slideshow": {
     "slide_type": "slide"
    }
   },
   "source": [
    "# Exercise 01a - `python` tutorial\n",
    "\n",
    "In order to get going with the exercises of our course *Complex Networks*, we will introduce data science and network analysis basics with  `python`. If you are interested in a more comprehensive introduction to `python`, you can find a introductory tutorials on the web, e.g. the [Official python tutorial](https://docs.python.org/3/tutorial/) or the [W3C python tutorial](https://www.w3schools.com/python/default.asp).\n",
    "\n",
    "## 1. Importing python modules\n",
    "\n",
    "Many functions that we will use are provided via `python` modules such as `numpy`, `scipy`, `scitkitlearn`, `matplotlib` or `pathpy`. We can import such modules using the `import` keyword.\n",
    "\n",
    "<span style=\"color:red\">**TODO:** Import the package `numpy`</span>"
   ]
  },
  {
   "cell_type": "code",
   "execution_count": 1,
   "metadata": {
    "slideshow": {
     "slide_type": "slide"
    }
   },
   "outputs": [],
   "source": [
    "import numpy"
   ]
  },
  {
   "cell_type": "markdown",
   "metadata": {
    "slideshow": {
     "slide_type": "fragment"
    }
   },
   "source": [
    "After the import, all classes, functions, and variables defined by `numpy` are accessible in the namespace `numpy.X`. Let us try this by using the code completion functionality integrated into IDEs like jupyter notebook and Visual Studio Code.\n",
    "\n",
    "<span style=\"color:red\">**TODO:** Use code completion to check the symbols available in the namespace `numpy`</span>"
   ]
  },
  {
   "cell_type": "code",
   "execution_count": 2,
   "metadata": {},
   "outputs": [
    {
     "data": {
      "text/plain": [
       "array(-2)"
      ]
     },
     "execution_count": 2,
     "metadata": {},
     "output_type": "execute_result"
    }
   ],
   "source": [
    "numpy.asarray(-2)"
   ]
  },
  {
   "cell_type": "markdown",
   "metadata": {},
   "source": [
    "Rather than importing into a namespace that matches the module name we can use `import MODULE as ALIAS` to define a local alias.\n",
    "\n",
    "<span style=\"color:red\">**TODO:** Import the package `numpy` using the alias `np`</span>"
   ]
  },
  {
   "cell_type": "code",
   "execution_count": 3,
   "metadata": {
    "slideshow": {
     "slide_type": "fragment"
    }
   },
   "outputs": [],
   "source": [
    "import numpy as np"
   ]
  },
  {
   "cell_type": "markdown",
   "metadata": {
    "slideshow": {
     "slide_type": "fragment"
    }
   },
   "source": [
    "We can use the `from` keyword to only import certain parts of a module, e.g. a single class or function. We can also use this to import all symbols from a certain submodule. If we wanted to include all symbols in `numpy` into python's root namespace (which is not recommended) we could do this as with the following statement (which we will not execute in this example):\n",
    "\n",
    "```\n",
    "from numpy import *\n",
    "```"
   ]
  },
  {
   "cell_type": "markdown",
   "metadata": {
    "slideshow": {
     "slide_type": "slide"
    }
   },
   "source": [
    "## 2. Built-in python data types\n",
    "\n",
    "Python is a dynamically-typed language, i.e., we do not have to specifically define the types of variables as they will be automatically inferred at runtime. This means that we can simply assign values of different types to variables without having to explicit cast them. We can check the type of a variable using the `type` function.\n",
    "\n",
    "<span style=\"color:red\">**TODO:** Assign the integer 42 to a variable `i` and print the type</span>"
   ]
  },
  {
   "cell_type": "code",
   "execution_count": 4,
   "metadata": {
    "slideshow": {
     "slide_type": "fragment"
    }
   },
   "outputs": [
    {
     "name": "stdout",
     "output_type": "stream",
     "text": [
      "<class 'int'>\n"
     ]
    }
   ],
   "source": [
    "i = 42\n",
    "print(type(i))"
   ]
  },
  {
   "cell_type": "markdown",
   "metadata": {
    "slideshow": {
     "slide_type": "subslide"
    }
   },
   "source": [
    "If we want to store the number 42 as a float value, we can make an explicit cast using the class constructor `float`.\n",
    "\n",
    "<span style=\"color:red\">**TODO:** Cast the integer 42 to a float, assign it to `i` and print the type</span>"
   ]
  },
  {
   "cell_type": "code",
   "execution_count": 5,
   "metadata": {
    "slideshow": {
     "slide_type": "fragment"
    }
   },
   "outputs": [
    {
     "name": "stdout",
     "output_type": "stream",
     "text": [
      "<class 'float'>\n"
     ]
    }
   ],
   "source": [
    "i = float(42)\n",
    "print(type(i))"
   ]
  },
  {
   "cell_type": "markdown",
   "metadata": {
    "slideshow": {
     "slide_type": "fragment"
    }
   },
   "source": [
    "As mentioned above, python will automatically infer the type of a variable based on its value. If we specify the number 42 with a decimal point, it will automatically store a floating point number.\n",
    "\n",
    "<span style=\"color:red\">**TODO:** Assign the number 42 with a decimal point to variable `i` and print the type</span>"
   ]
  },
  {
   "cell_type": "code",
   "execution_count": 7,
   "metadata": {
    "slideshow": {
     "slide_type": "fragment"
    }
   },
   "outputs": [
    {
     "name": "stdout",
     "output_type": "stream",
     "text": [
      "<class 'float'>\n"
     ]
    }
   ],
   "source": [
    "i = 42.\n",
    "print(type(i))"
   ]
  },
  {
   "cell_type": "markdown",
   "metadata": {
    "slideshow": {
     "slide_type": "subslide"
    }
   },
   "source": [
    "Python comes with an integrated string class and we can cast values to strings using the class constructor `str`.\n",
    "\n",
    "<span style=\"color:red\">**TODO:** Cast the variable `i` to a string and `print` the value</span>"
   ]
  },
  {
   "cell_type": "code",
   "execution_count": 8,
   "metadata": {
    "slideshow": {
     "slide_type": "fragment"
    }
   },
   "outputs": [
    {
     "name": "stdout",
     "output_type": "stream",
     "text": [
      "42.0\n"
     ]
    }
   ],
   "source": [
    "i = str(i)\n",
    "print(i)"
   ]
  },
  {
   "cell_type": "markdown",
   "metadata": {
    "slideshow": {
     "slide_type": "subslide"
    }
   },
   "source": [
    "We can define string literals using single or double quotes. This comes in handy if we want to define strings that contain quotes.\n",
    "\n",
    "<span style=\"color:red\">**TODO:** Define two strings using the single and double quote notation</span>"
   ]
  },
  {
   "cell_type": "code",
   "execution_count": 9,
   "metadata": {
    "slideshow": {
     "slide_type": "fragment"
    }
   },
   "outputs": [],
   "source": [
    "s1 = 'some text'\n",
    "s2 = \"some text with a 'quote'\""
   ]
  },
  {
   "cell_type": "code",
   "execution_count": 10,
   "metadata": {},
   "outputs": [
    {
     "data": {
      "text/plain": [
       "'e'"
      ]
     },
     "execution_count": 10,
     "metadata": {},
     "output_type": "execute_result"
    }
   ],
   "source": [
    "s1[3]"
   ]
  },
  {
   "cell_type": "markdown",
   "metadata": {
    "slideshow": {
     "slide_type": "fragment"
    }
   },
   "source": [
    "Boolean (i.e. logical) values are defined using the keywords `True` and `False`. Common comparators which yield Boolean results are `==` (equal), `!=` (not equal), `<` (smaller), `>` (greater), `<=` (smaller equal) and `>=` (greater equal). They can be composed to logical expressions using the binary boolean operators `or` and `and`.\n",
    "\n",
    "<span style=\"color:red\">**TODO:** Define a boolean variable and print the output. Use comparators and boolean operators to define a logical expression on an integer variable and print the output</span>"
   ]
  },
  {
   "cell_type": "code",
   "execution_count": 11,
   "metadata": {
    "slideshow": {
     "slide_type": "fragment"
    }
   },
   "outputs": [
    {
     "name": "stdout",
     "output_type": "stream",
     "text": [
      "False\n",
      "True\n"
     ]
    }
   ],
   "source": [
    "b = False\n",
    "print(b)\n",
    "\n",
    "x = 42\n",
    "print(x > 20 and x < 45)"
   ]
  },
  {
   "cell_type": "markdown",
   "metadata": {},
   "source": [
    "## 3. Functions and lambda expressions"
   ]
  },
  {
   "cell_type": "markdown",
   "metadata": {},
   "source": [
    "We can use the `def` keyword to define functions that can be called with different arguments. We can assign standard values to optional parameters, which are used if the respective argument is omitted.\n",
    "\n",
    "The `return` keyword can be used to return a value. Since python uses neither brackets (like C/C++/C#/Java) nor begin/end keywords (like Pascal/Basic) as scope delimiters, the statements that belong to the function have to be indented correctly.\n",
    "\n",
    "<span style=\"color:red\">**TODO:** Define a function with three parameters, of which two are assigned default values.</span>"
   ]
  },
  {
   "cell_type": "code",
   "execution_count": 12,
   "metadata": {},
   "outputs": [],
   "source": [
    "def some_function(x, y=42, z='message'):\n",
    "    # We can output several printable variables using the print method.\n",
    "    # By default a space is used to separate the individual values\n",
    "    print(\"Parameter x =\", x)\n",
    "    print(\"Parameter y =\", y)\n",
    "    print(\"Parameter z =\", z)\n",
    "    return x+y"
   ]
  },
  {
   "cell_type": "markdown",
   "metadata": {},
   "source": [
    "Note that python is a whitespace-sensitive language, i.e., **wrong whitespace characters can break your code or give it a different meaning!**\n",
    "\n",
    "<span style=\"color:red\">**TODO:** Change the intendation of the function definition to provoke a syntax error.</span>"
   ]
  },
  {
   "cell_type": "code",
   "execution_count": 15,
   "metadata": {},
   "outputs": [],
   "source": [
    "def some_function(x, y=42, z='message'):\n",
    " print(\"Parameter x =\", x)\n",
    " print(\"Parameter y =\", y)\n",
    " print(\"Parameter z =\", z)\n",
    " return x+y"
   ]
  },
  {
   "cell_type": "markdown",
   "metadata": {},
   "source": [
    "When calling a function, we must provide arguments for all parameters that do not have assigned a standard value. We can also only set particular arguments in any order by specifying named arguments (i.e. stating \"`z = `\").\n",
    "\n",
    "<span style=\"color:red\">**TODO:** Call the function above by specifying (i) the first argument, (ii) the second named argument, and (iii) the third named argument.</span>"
   ]
  },
  {
   "cell_type": "code",
   "execution_count": 17,
   "metadata": {},
   "outputs": [
    {
     "name": "stdout",
     "output_type": "stream",
     "text": [
      "Parameter x = 0\n",
      "Parameter y = 42\n",
      "Parameter z = message\n",
      "42\n",
      "Parameter x = 42\n",
      "Parameter y = 45\n",
      "Parameter z = message\n",
      "87\n",
      "Parameter x = 42\n",
      "Parameter y = 42\n",
      "Parameter z = some other message\n",
      "84\n"
     ]
    }
   ],
   "source": [
    "result = some_function(0)\n",
    "print(result)\n",
    "\n",
    "result = some_function(42, y=45)\n",
    "print(result)\n",
    "\n",
    "result = some_function(42, z=\"some other message\")\n",
    "print(result)"
   ]
  },
  {
   "cell_type": "markdown",
   "metadata": {},
   "source": [
    "Importantly, while we can change the order of named arguments, while the order of unnamed arguments is fixed. These unnamed arguments are called **positional arguments**, because they are determined based on the order of arguments. This implies that we cannot pass a named argument before a positional argument.\n",
    "\n",
    "<span style=\"color:red\">**TODO:** Try to call the function from above by passing a named parameter as first argument.</span>"
   ]
  },
  {
   "cell_type": "code",
   "execution_count": 19,
   "metadata": {},
   "outputs": [
    {
     "ename": "SyntaxError",
     "evalue": "positional argument follows keyword argument (3919599900.py, line 1)",
     "output_type": "error",
     "traceback": [
      "  \u001b[36mCell\u001b[39m\u001b[36m \u001b[39m\u001b[32mIn[19]\u001b[39m\u001b[32m, line 1\u001b[39m\n\u001b[31m    \u001b[39m\u001b[31msome_function(y=45, 0)\u001b[39m\n                         ^\n\u001b[31mSyntaxError\u001b[39m\u001b[31m:\u001b[39m positional argument follows keyword argument\n"
     ]
    }
   ],
   "source": [
    "some_function(y=45, 0)"
   ]
  },
  {
   "cell_type": "markdown",
   "metadata": {},
   "source": [
    "Rather than defining functions that consist of multiple expressions, and which are assigned a name, we often encounter situations where we e.g. want to pass a single expression as an argument to another function. As an illustrative example, consider the following function. It performs a generic, yet to be specified `test`, which returns `True` or `False` on the parameter `x`."
   ]
  },
  {
   "cell_type": "code",
   "execution_count": 20,
   "metadata": {},
   "outputs": [],
   "source": [
    "def perform_test(x, test):\n",
    "    if test(x): \n",
    "        print('x passes the test')\n",
    "    else:\n",
    "        print('x does not pass the test')"
   ]
  },
  {
   "cell_type": "markdown",
   "metadata": {},
   "source": [
    "We could call this function by passing the name of another function as parameter `test`. But this would require us to define and name this function, while we often simply want to pass a simple expression that returns a boolean value. This can be achieved by so-called [lambda expressions](https://docs.python.org/3/reference/expressions.html#lambda), a special type of anonymous function. The general syntax is: \n",
    "\n",
    "```\n",
    "lambda params: expression\n",
    "```\n",
    "\n",
    "With this, we can for instance pass an expression that checks whether the parameter is a string. We can do this using the `isistance(x, y)` function, which checks whether `x` is an instance of the class `y`.\n",
    "\n",
    "<span style=\"color:red\">**TODO:** Call the function `perform_test` on an integer and pass a lambda expression that checks whether the argument `x` is a string.</span>"
   ]
  },
  {
   "cell_type": "code",
   "execution_count": 21,
   "metadata": {},
   "outputs": [
    {
     "name": "stdout",
     "output_type": "stream",
     "text": [
      "x does not pass the test\n",
      "x passes the test\n"
     ]
    }
   ],
   "source": [
    "x = 42\n",
    "perform_test(x, lambda y: isinstance(y, str))\n",
    "x = '42'\n",
    "perform_test(x, lambda y: isinstance(y, str))"
   ]
  },
  {
   "cell_type": "markdown",
   "metadata": {},
   "source": [
    "## 4. Loops and if-clauses"
   ]
  },
  {
   "cell_type": "markdown",
   "metadata": {},
   "source": [
    "We can use for-loops to execute statements for a given number of elements. Instead of the syntax `for (int i=0; i<10; i++)` which you may know from languages like Java or C, in `python` the syntax of the for-loop is\n",
    "\n",
    "`for i in SEQUENCE:`\n",
    "\n",
    "where `SEQUENCE` can be any iterable object. For the common case that we want to iterate over increasing or decreasing numbers, we can use the `range(start=0,stop)` function. It generates a sequence of numbers in a given range, that we can then iterate over. The `stop` argument is an **non-inclusive** upper bound of the sequence, the start argument is an `inclusive` lower bound. The default value for `start` is zero, so a call to range(10) generates a sequence consisting of the 10 numbers [0,1,2,3,4,5,6,7,8,9].\n",
    "\n",
    "<span style=\"color:red\">**TODO:** Iterate over the integers from 1 to 15 and print each value.</span>"
   ]
  },
  {
   "cell_type": "code",
   "execution_count": 23,
   "metadata": {},
   "outputs": [
    {
     "name": "stdout",
     "output_type": "stream",
     "text": [
      "x = 1\n",
      "x = 2\n",
      "x = 3\n",
      "x = 4\n",
      "x = 5\n",
      "x = 6\n",
      "x = 7\n",
      "x = 8\n",
      "x = 9\n",
      "x = 10\n",
      "x = 11\n",
      "x = 12\n",
      "x = 13\n",
      "x = 14\n",
      "x = 15\n"
     ]
    }
   ],
   "source": [
    "for x in range(1, 16):\n",
    "    print(\"x =\", x)"
   ]
  },
  {
   "cell_type": "markdown",
   "metadata": {},
   "source": [
    "As we see in the following cell, the `range` function returns an iterable `range` object:"
   ]
  },
  {
   "cell_type": "code",
   "execution_count": 24,
   "metadata": {},
   "outputs": [
    {
     "data": {
      "text/plain": [
       "range"
      ]
     },
     "execution_count": 24,
     "metadata": {},
     "output_type": "execute_result"
    }
   ],
   "source": [
    "type(range(1, 16))"
   ]
  },
  {
   "cell_type": "markdown",
   "metadata": {},
   "source": [
    "We can generate the actual ordered list of numbers by passing this iterable object to the constructor of the class ``list`.\n",
    "\n",
    "<span style=\"color:red\">**TODO:** Generate a list from the `range` object created above.</span>"
   ]
  },
  {
   "cell_type": "code",
   "execution_count": 25,
   "metadata": {},
   "outputs": [
    {
     "data": {
      "text/plain": [
       "[1, 2, 3, 4, 5, 6, 7, 8, 9, 10, 11, 12, 13, 14, 15]"
      ]
     },
     "execution_count": 25,
     "metadata": {},
     "output_type": "execute_result"
    }
   ],
   "source": [
    "list(range(1, 16))"
   ]
  },
  {
   "cell_type": "markdown",
   "metadata": {},
   "source": [
    "The syntax of `while` loops is more familiar:\n",
    "\n",
    "```while EXPRESSION:\n",
    "    STATEMENT\n",
    "```\n",
    "\n",
    "<span style=\"color:red\">**TODO:** Use a while loop to iterate over the integers from 1 to 15 and print each value.</span>"
   ]
  },
  {
   "cell_type": "code",
   "execution_count": 26,
   "metadata": {},
   "outputs": [
    {
     "name": "stdout",
     "output_type": "stream",
     "text": [
      "x = 1\n",
      "x = 2\n",
      "x = 3\n",
      "x = 4\n",
      "x = 5\n",
      "x = 6\n",
      "x = 7\n",
      "x = 8\n",
      "x = 9\n",
      "x = 10\n",
      "x = 11\n",
      "x = 12\n",
      "x = 13\n",
      "x = 14\n",
      "x = 15\n"
     ]
    }
   ],
   "source": [
    "x = 1\n",
    "while x <= 15:\n",
    "    print(\"x =\", x)   \n",
    "    x = x+1"
   ]
  },
  {
   "cell_type": "markdown",
   "metadata": {},
   "source": [
    "As in other languages, `if`-clauses allow us to execute statements conditionally. They use a similar syntax as loops, i.e. a colon followed by multiple indented statements. The `else` and `elif` branches are optional and can be omitted. `elif` is short for `else if`, i.e. it is an additional condition checked if the previous one does not apply.\n",
    "\n",
    "<span style=\"color:red\">**TODO:** Write a simple `if` statement with an `else` and an `elif` branch.</span>"
   ]
  },
  {
   "cell_type": "code",
   "execution_count": 27,
   "metadata": {},
   "outputs": [
    {
     "name": "stdout",
     "output_type": "stream",
     "text": [
      "x is smaller than y\n"
     ]
    }
   ],
   "source": [
    "x = 3\n",
    "y = 5\n",
    "if x < y:\n",
    "    print(\"x is smaller than y\")\n",
    "elif x > y:\n",
    "    print(\"x is larger than y\")\n",
    "else: \n",
    "    print(\"x and y are equal\")"
   ]
  },
  {
   "cell_type": "markdown",
   "metadata": {},
   "source": [
    "## 5. Lists and dictionaries\n",
    "\n",
    "A particularly appealing feature of python are its powerful built-in support for list, sequences, sets and dictionaries. Compared to other languages, they are particularly easy to use. A list consisting of elements with arbitrary (and different) types can be defined by grouping them with angular brackets. \n",
    "\n",
    "<span style=\"color:red\">**TODO:** Create a list that contains integers, strings, floats, and a boolean.</span>"
   ]
  },
  {
   "cell_type": "code",
   "execution_count": 28,
   "metadata": {},
   "outputs": [],
   "source": [
    "l = [1,42,'test',True,7.5, 'x']"
   ]
  },
  {
   "cell_type": "markdown",
   "metadata": {},
   "source": [
    "The `append` function can be used to add an element to the end of a list.\n",
    "\n",
    "<span style=\"color:red\">**TODO:** Append a string element to the list above.</span>"
   ]
  },
  {
   "cell_type": "code",
   "execution_count": 29,
   "metadata": {},
   "outputs": [],
   "source": [
    "l.append('one more item')"
   ]
  },
  {
   "cell_type": "markdown",
   "metadata": {},
   "source": [
    "We can access list elements via their zero-based index.\n",
    "\n",
    "<span style=\"color:red\">**TODO:** Print the first and third element of the list.</span>"
   ]
  },
  {
   "cell_type": "code",
   "execution_count": 30,
   "metadata": {},
   "outputs": [
    {
     "name": "stdout",
     "output_type": "stream",
     "text": [
      "1\n",
      "test\n"
     ]
    }
   ],
   "source": [
    "print(l[0])\n",
    "print(l[2])"
   ]
  },
  {
   "cell_type": "markdown",
   "metadata": {},
   "source": [
    "The `insert` function allows us to insert an element at a given index.\n",
    "\n",
    "<span style=\"color:red\">**TODO:** Insert a float at the third position of the list.</span>"
   ]
  },
  {
   "cell_type": "code",
   "execution_count": 31,
   "metadata": {},
   "outputs": [
    {
     "name": "stdout",
     "output_type": "stream",
     "text": [
      "[1, 42, 42.0, 'test', True, 7.5, 'x', 'one more item']\n"
     ]
    }
   ],
   "source": [
    "l.insert(2, 42.0)\n",
    "print(l)"
   ]
  },
  {
   "cell_type": "markdown",
   "metadata": {},
   "source": [
    "The `remove` function will remove all occurrences of a given value from the list.\n",
    "\n",
    "<span style=\"color:red\">**TODO:** Remove an element from the list.</span>"
   ]
  },
  {
   "cell_type": "code",
   "execution_count": 32,
   "metadata": {},
   "outputs": [
    {
     "name": "stdout",
     "output_type": "stream",
     "text": [
      "[1, 42, 42.0, True, 7.5, 'x', 'one more item']\n"
     ]
    }
   ],
   "source": [
    "l.remove('test')\n",
    "print(l)"
   ]
  },
  {
   "cell_type": "markdown",
   "metadata": {},
   "source": [
    "Finally, we can use the `pop` function to remove (and return) an element at a given index. If no index is specified the function will remove the last element in the list. This implies that we can simply use the `append` and `pop` functions of the `list` class if we need a LIFO stack data structure. If we need  a FIFO queue, we can simply use `insert(0, x)` and `pop()` on a `list`.\n",
    "\n",
    "<span style=\"color:red\">**TODO:** Use the `pop` function to extract the first and last element of the list.</span>"
   ]
  },
  {
   "cell_type": "code",
   "execution_count": 33,
   "metadata": {},
   "outputs": [
    {
     "name": "stdout",
     "output_type": "stream",
     "text": [
      "1\n",
      "[42, 42.0, True, 7.5, 'x', 'one more item']\n",
      "one more item\n",
      "[42, 42.0, True, 7.5, 'x']\n"
     ]
    }
   ],
   "source": [
    "print(l.pop(0))\n",
    "print(l)\n",
    "print(l.pop())\n",
    "print(l)"
   ]
  },
  {
   "cell_type": "markdown",
   "metadata": {},
   "source": [
    "Lists are iterable objects for which we can directly iterate through the elements by a for-loop:\n",
    "\n",
    "<span style=\"color:red\">**TODO:** Use a for loop to print all elements in the list.</span>"
   ]
  },
  {
   "cell_type": "code",
   "execution_count": 34,
   "metadata": {},
   "outputs": [
    {
     "name": "stdout",
     "output_type": "stream",
     "text": [
      "42\n",
      "42.0\n",
      "True\n",
      "7.5\n",
      "x\n"
     ]
    }
   ],
   "source": [
    "for element in l:\n",
    "    print(element)"
   ]
  },
  {
   "cell_type": "markdown",
   "metadata": {},
   "source": [
    "A very powerful concept in `python` is **list comprehension**. It allows you to define lists using an intuitive notation, which resembles a mathematical definition of a list. The general syntax is: \n",
    "\n",
    "`[expression for element in iterable]`\n",
    "\n",
    "This is particularly useful if we want to generate number sequences based on arbitrary mathematical expressions.\n",
    "\n",
    "<span style=\"color:red\">**TODO:** Define a list that contains the first 10 values of the harmonic sequence $\\frac{1}{x}$ .</span>"
   ]
  },
  {
   "cell_type": "code",
   "execution_count": 35,
   "metadata": {},
   "outputs": [
    {
     "name": "stdout",
     "output_type": "stream",
     "text": [
      "[1.0, 0.5, 0.3333333333333333, 0.25, 0.2, 0.16666666666666666, 0.14285714285714285, 0.125, 0.1111111111111111]\n"
     ]
    }
   ],
   "source": [
    "x = [1/x for x in range(1,10)]\n",
    "print(x)"
   ]
  },
  {
   "cell_type": "markdown",
   "metadata": {},
   "source": [
    "Different from a list, a dictionary is a structure that contains key-value pairs, i.e. we have a set of (unique) keys, each of which is assigned exactly one value (though this value can be a list containing several items). We can create an empty dictionary either by using the constructor of the `dict` class. We can then assign values to the keys in a dictionary `d` by using the bracket notation `d[key] = value`.\n",
    "\n",
    "<span style=\"color:red\">**TODO:** Define an empty dictionary and assign values to arbitrary string keys.</span>"
   ]
  },
  {
   "cell_type": "code",
   "execution_count": 36,
   "metadata": {},
   "outputs": [],
   "source": [
    "d = {}\n",
    "d['key1'] = 42\n",
    "d['key2'] = 'some string'\n",
    "d['key3'] = True\n",
    "d['key4'] = 4.5"
   ]
  },
  {
   "cell_type": "markdown",
   "metadata": {},
   "source": [
    "We can alternatively use the curly bracket notation `{ key1: value1, key2: value2}` to define a dictionary with multiple key-value pairs.\n",
    "\n",
    "<span style=\"color:red\">**TODO:** Use the curly bracket notation to define the same dictionary as above..</span>"
   ]
  },
  {
   "cell_type": "code",
   "execution_count": 37,
   "metadata": {},
   "outputs": [],
   "source": [
    "d = {'key1': 42, 'key2': 'some string', 'key3': True, 'key4': 4.5}"
   ]
  },
  {
   "cell_type": "markdown",
   "metadata": {},
   "source": [
    "If we assign a value to a key, the dictionary is either expanded, or the value of an existing key will be overwritten."
   ]
  },
  {
   "cell_type": "code",
   "execution_count": 38,
   "metadata": {},
   "outputs": [
    {
     "name": "stdout",
     "output_type": "stream",
     "text": [
      "{'key1': 42, 'key2': 'some string', 'key3': True, 'key4': 5}\n"
     ]
    }
   ],
   "source": [
    "d['key4'] = 5\n",
    "print(d)"
   ]
  },
  {
   "cell_type": "markdown",
   "metadata": {},
   "source": [
    "We can use the `in` operator to check whether a key is already contained in the dictionary. Since the dicionary implementation internally hashes the keys, this is an O(1) operation.\n",
    "\n",
    "<span style=\"color:red\">**TODO:** Use the `in` operator to check for an existing and non-existing key in the dictionary.</span>"
   ]
  },
  {
   "cell_type": "code",
   "execution_count": 39,
   "metadata": {},
   "outputs": [
    {
     "name": "stdout",
     "output_type": "stream",
     "text": [
      "True\n",
      "False\n"
     ]
    }
   ],
   "source": [
    "print('key1' in d)\n",
    "print('not present' in d)"
   ]
  },
  {
   "cell_type": "markdown",
   "metadata": {},
   "source": [
    "When we iterate over a dictionary, we actually iterate over the keys and the key elements are not necessarily in the same order as they were added. We can alternatively use the `items()` function to iterate over key-value pairs.\n",
    "\n",
    "<span style=\"color:red\">**TODO:** Use two for loops to iterate over (i) the keys and (ii) the key-value pairs of the dictionary.</span>"
   ]
  },
  {
   "cell_type": "code",
   "execution_count": 40,
   "metadata": {},
   "outputs": [
    {
     "name": "stdout",
     "output_type": "stream",
     "text": [
      "42\n",
      "some string\n",
      "True\n",
      "5\n",
      "key key1 -> value 42\n",
      "key key2 -> value some string\n",
      "key key3 -> value True\n",
      "key key4 -> value 5\n"
     ]
    }
   ],
   "source": [
    "for k in d:\n",
    "    print(d[k])\n",
    "    \n",
    "for k, v in d.items():\n",
    "    print('key {0} -> value {1}'.format(k, v))"
   ]
  },
  {
   "cell_type": "markdown",
   "metadata": {},
   "source": [
    "Speaking of order, lists and tuples are ordered and elements are not necessarily unique. If we test for equality, the order as well as multiple elements are considered. \n",
    "\n",
    "<span style=\"color:red\">**TODO:** Create three lists with elements 1,2,3,4. In list 1 and 2 elements should be in different order, in list 3 one element should occur twice. Test the equality of list 1 and 2 and list 2 and 3</span>"
   ]
  },
  {
   "cell_type": "code",
   "execution_count": 41,
   "metadata": {},
   "outputs": [
    {
     "name": "stdout",
     "output_type": "stream",
     "text": [
      "False\n",
      "False\n"
     ]
    }
   ],
   "source": [
    "a = [1, 2, 3, 4]\n",
    "b = [2, 1, 3, 4]\n",
    "c = [2, 1, 3, 4, 4]\n",
    "print(a==b)\n",
    "print(b==c)"
   ]
  },
  {
   "cell_type": "markdown",
   "metadata": {},
   "source": [
    "If we want to store unordered collections of elements, we can use the `set` class. This class offers the `add` function to add elements. In a `set`, the same element can not be added twice.\n",
    "\n",
    "<span style=\"color:red\">**TODO:** Create a set, add the same element and print the result.</span>"
   ]
  },
  {
   "cell_type": "code",
   "execution_count": 42,
   "metadata": {},
   "outputs": [
    {
     "name": "stdout",
     "output_type": "stream",
     "text": [
      "{1}\n"
     ]
    }
   ],
   "source": [
    "s = set()\n",
    "s.add(1)\n",
    "s.add(1)\n",
    "print(s)"
   ]
  },
  {
   "cell_type": "markdown",
   "metadata": {},
   "source": [
    "We can turn any iterable into a set by passing it to the constructor of the `set` class. This allows us to check, e.g. whether multiple lists contain the same elements (irrespective of ordering and not accounting for multiple occurrences of elements).\n",
    "\n",
    "<span style=\"color:red\">**TODO:** Create sets from the three lists created above. Test the equality of set 1 and 2 and of set 2 and 3.</span>"
   ]
  },
  {
   "cell_type": "code",
   "execution_count": 43,
   "metadata": {},
   "outputs": [
    {
     "name": "stdout",
     "output_type": "stream",
     "text": [
      "True\n",
      "True\n"
     ]
    }
   ],
   "source": [
    "x = set(a)\n",
    "y = set(b)\n",
    "z = set(c)\n",
    "print(x==y)\n",
    "print(y==z)"
   ]
  },
  {
   "cell_type": "markdown",
   "metadata": {},
   "source": [
    "Finally, python comes with a class to store a  `tuple`. Just like lists, tuples are ordered collections where the same element can occur multiple times. But different from lists, python tuples are immutable, i.e. once they are created we cannot change them. We can create a tuple by using the round bracket notation `(elem1, elem2, elem3)`.\n",
    "\n",
    "<span style=\"color:red\">**TODO:** Create a tuple and try to change an element.</span>"
   ]
  },
  {
   "cell_type": "code",
   "execution_count": 44,
   "metadata": {},
   "outputs": [
    {
     "ename": "TypeError",
     "evalue": "'tuple' object does not support item assignment",
     "output_type": "error",
     "traceback": [
      "\u001b[31m---------------------------------------------------------------------------\u001b[39m",
      "\u001b[31mTypeError\u001b[39m                                 Traceback (most recent call last)",
      "\u001b[36mCell\u001b[39m\u001b[36m \u001b[39m\u001b[32mIn[44]\u001b[39m\u001b[32m, line 2\u001b[39m\n\u001b[32m      1\u001b[39m t = (\u001b[32m1\u001b[39m,\u001b[32m2\u001b[39m,\u001b[32m3\u001b[39m,\u001b[32m4\u001b[39m,\u001b[32m4\u001b[39m)\n\u001b[32m----> \u001b[39m\u001b[32m2\u001b[39m \u001b[43mt\u001b[49m\u001b[43m[\u001b[49m\u001b[32;43m2\u001b[39;49m\u001b[43m]\u001b[49m = \u001b[32m5\u001b[39m\n",
      "\u001b[31mTypeError\u001b[39m: 'tuple' object does not support item assignment"
     ]
    }
   ],
   "source": [
    "t = (1,2,3,4,4)\n",
    "t[2] = 5"
   ]
  }
 ],
 "metadata": {
  "kernelspec": {
   "display_name": "tutorial_venv_new",
   "language": "python",
   "name": "python3"
  },
  "language_info": {
   "codemirror_mode": {
    "name": "ipython",
    "version": 3
   },
   "file_extension": ".py",
   "mimetype": "text/x-python",
   "name": "python",
   "nbconvert_exporter": "python",
   "pygments_lexer": "ipython3",
   "version": "3.12.3"
  }
 },
 "nbformat": 4,
 "nbformat_minor": 1
}
