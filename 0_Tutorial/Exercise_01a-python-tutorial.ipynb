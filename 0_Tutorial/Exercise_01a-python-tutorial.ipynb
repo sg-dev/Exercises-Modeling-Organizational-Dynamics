{
 "cells": [
  {
   "cell_type": "markdown",
   "metadata": {
    "slideshow": {
     "slide_type": "slide"
    }
   },
   "source": [
    "# Exercise 01a - `python` tutorial\n",
    "\n",
    "In order to get going with the exercises of our course *Complex Networks*, we will introduce data science and network analysis basics with  `python`. If you are interested in a more comprehensive introduction to `python`, you can find a introductory tutorials on the web, e.g. the [Official python tutorial](https://docs.python.org/3/tutorial/) or the [W3C python tutorial](https://www.w3schools.com/python/default.asp).\n",
    "\n",
    "\n",
    "## 1. Importing python modules\n",
    "\n",
    "Many functions that we will use are provided via `python` modules such as `numpy`, `scipy`, `scitkitlearn`, `matplotlib` or `pathpy`. We can import such modules using the `import` keyword.\n",
    "\n",
    "<span style=\"color:red\">**TODO:** Import the package `numpy`</span>"
   ]
  },
  {
   "cell_type": "code",
   "execution_count": null,
   "metadata": {
    "slideshow": {
     "slide_type": "slide"
    }
   },
   "outputs": [],
   "source": []
  },
  {
   "cell_type": "markdown",
   "metadata": {
    "slideshow": {
     "slide_type": "fragment"
    }
   },
   "source": [
    "After the import, all classes, functions, and variables defined by `numpy` are accessible in the namespace `numpy.X`. Let us try this by using the code completion functionality integrated into IDEs like jupyter notebook and Visual Studio Code.\n",
    "\n",
    "<span style=\"color:red\">**TODO:** Use code completion to check the symbols available in the namespace `numpy`</span>"
   ]
  },
  {
   "cell_type": "code",
   "execution_count": null,
   "metadata": {},
   "outputs": [],
   "source": []
  },
  {
   "cell_type": "markdown",
   "metadata": {},
   "source": [
    "Rather than importing into a namespace that matches the module name we can use `import MODULE as ALIAS` to define a local alias.\n",
    "\n",
    "<span style=\"color:red\">**TODO:** Import the package `numpy` using the alias `np`</span>"
   ]
  },
  {
   "cell_type": "code",
   "execution_count": null,
   "metadata": {
    "slideshow": {
     "slide_type": "fragment"
    }
   },
   "outputs": [],
   "source": []
  },
  {
   "cell_type": "markdown",
   "metadata": {
    "slideshow": {
     "slide_type": "fragment"
    }
   },
   "source": [
    "We can use the `from` keyword to only import certain parts of a module, e.g. a single class or function. We can also use this to import all symbols from a certain submodule. If we wanted to include all symbols in `numpy` into python's root namespace (which is not recommended) we could do this as with the following statement (which we will not execute in this example):\n",
    "\n",
    "```\n",
    "from numpy import *\n",
    "```"
   ]
  },
  {
   "cell_type": "markdown",
   "metadata": {
    "slideshow": {
     "slide_type": "slide"
    }
   },
   "source": [
    "## 2. Built-in python data types\n",
    "\n",
    "Python is a dynamically-typed language, i.e., we do not have to specifically define the types of variables as they will be automatically inferred at runtime. This means that we can simply assign values of different types to variables without having to explicit cast them. We can check the type of a variable using the `type` function.\n",
    "\n",
    "<span style=\"color:red\">**TODO:** Assign the integer 42 to a variable `i` and print the type</span>"
   ]
  },
  {
   "cell_type": "code",
   "execution_count": null,
   "metadata": {
    "slideshow": {
     "slide_type": "fragment"
    }
   },
   "outputs": [],
   "source": []
  },
  {
   "cell_type": "markdown",
   "metadata": {
    "slideshow": {
     "slide_type": "subslide"
    }
   },
   "source": [
    "If we want to store the number 42 as a float value, we can make an explicit cast using the class constructor `float`.\n",
    "\n",
    "<span style=\"color:red\">**TODO:** Cast the integer 42 to a float, assign it to `i` and print the type</span>"
   ]
  },
  {
   "cell_type": "code",
   "execution_count": null,
   "metadata": {
    "slideshow": {
     "slide_type": "fragment"
    }
   },
   "outputs": [],
   "source": []
  },
  {
   "cell_type": "markdown",
   "metadata": {
    "slideshow": {
     "slide_type": "fragment"
    }
   },
   "source": [
    "As mentioned above, python will automatically infer the type of a variable based on its value. If we specify the number 42 with a decimal point, it will automatically store a floating point number.\n",
    "\n",
    "<span style=\"color:red\">**TODO:** Assign the number 42 with a decimal point to variable `i` and print the type</span>"
   ]
  },
  {
   "cell_type": "code",
   "execution_count": null,
   "metadata": {
    "slideshow": {
     "slide_type": "fragment"
    }
   },
   "outputs": [],
   "source": []
  },
  {
   "cell_type": "markdown",
   "metadata": {
    "slideshow": {
     "slide_type": "subslide"
    }
   },
   "source": [
    "Python comes with an integrated string class and we can cast values to strings using the class constructor `str`.\n",
    "\n",
    "<span style=\"color:red\">**TODO:** Cast the variable `i` to a string and `print` the value</span>"
   ]
  },
  {
   "cell_type": "code",
   "execution_count": null,
   "metadata": {
    "slideshow": {
     "slide_type": "fragment"
    }
   },
   "outputs": [],
   "source": []
  },
  {
   "cell_type": "markdown",
   "metadata": {
    "slideshow": {
     "slide_type": "subslide"
    }
   },
   "source": [
    "We can define string literals using single or double quotes. This comes in handy if we want to define strings that contain quotes.\n",
    "\n",
    "<span style=\"color:red\">**TODO:** Define two strings using the single and double quote notation</span>"
   ]
  },
  {
   "cell_type": "code",
   "execution_count": null,
   "metadata": {
    "slideshow": {
     "slide_type": "fragment"
    }
   },
   "outputs": [],
   "source": []
  },
  {
   "cell_type": "markdown",
   "metadata": {
    "slideshow": {
     "slide_type": "fragment"
    }
   },
   "source": [
    "Boolean (i.e. logical) values are defined using the keywords `True` and `False`. Common comparators which yield Boolean results are `==` (equal), `!=` (not equal), `<` (smaller), `>` (greater), `<=` (smaller equal) and `>=` (greater equal). They can be composed to logical expressions using the binary boolean operators `or` and `and`.\n",
    "\n",
    "<span style=\"color:red\">**TODO:** Define a boolean variable and print the output. Use comparators and boolean operators to define a logical expression on an integer variable and print the output</span>"
   ]
  },
  {
   "cell_type": "code",
   "execution_count": null,
   "metadata": {
    "slideshow": {
     "slide_type": "fragment"
    }
   },
   "outputs": [],
   "source": []
  },
  {
   "cell_type": "markdown",
   "metadata": {},
   "source": [
    "## 3. Functions and lambda expressions"
   ]
  },
  {
   "cell_type": "markdown",
   "metadata": {},
   "source": [
    "We can use the `def` keyword to define functions that can be called with different arguments. We can assign standard values to optional parameters, which are used if the respective argument is omitted.\n",
    "\n",
    "The `return` keyword can be used to return a value. Since python uses neither brackets (like C/C++/C#/Java) nor begin/end keywords (like Pascal/Basic) as scope delimiters, the statements that belong to the function have to be indented correctly.\n",
    "\n",
    "<span style=\"color:red\">**TODO:** Define a function with three parameters, of which two are assigned default values.</span>"
   ]
  },
  {
   "cell_type": "code",
   "execution_count": null,
   "metadata": {},
   "outputs": [],
   "source": []
  },
  {
   "cell_type": "markdown",
   "metadata": {},
   "source": [
    "Note that python is a whitespace-sensitive language, i.e., **wrong whitespace characters can break your code or give it a different meaning!**\n",
    "\n",
    "<span style=\"color:red\">**TODO:** Change the intendation of the function definition to provoke a syntax error.</span>"
   ]
  },
  {
   "cell_type": "code",
   "execution_count": null,
   "metadata": {},
   "outputs": [],
   "source": []
  },
  {
   "cell_type": "markdown",
   "metadata": {},
   "source": [
    "When calling a function, we must provide arguments for all parameters that do not have assigned a standard value. We can also only set particular arguments in any order by specifying named arguments (i.e. stating \"`z = `\").\n",
    "\n",
    "<span style=\"color:red\">**TODO:** Call the function above by specifying (i) the first argument, (ii) the second named argument, and (iii) the third named argument.</span>"
   ]
  },
  {
   "cell_type": "code",
   "execution_count": null,
   "metadata": {},
   "outputs": [],
   "source": []
  },
  {
   "cell_type": "markdown",
   "metadata": {},
   "source": [
    "Importantly, while we can change the order of named arguments, while the order of unnamed arguments is fixed. These unnamed arguments are called **positional arguments**, because they are determined based on the order of arguments. This implies that we cannot pass a named argument before a positional argument.\n",
    "\n",
    "<span style=\"color:red\">**TODO:** Try to call the function from above by passing a named parameter as first argument.</span>"
   ]
  },
  {
   "cell_type": "code",
   "execution_count": null,
   "metadata": {},
   "outputs": [],
   "source": []
  },
  {
   "cell_type": "markdown",
   "metadata": {},
   "source": [
    "Rather than defining functions that consist of multiple expressions, and which are assigned a name, we often encounter situations where we e.g. want to pass a single expression as an argument to another function. As an illustrative example, consider the following function. It performs a generic, yet to be specified `test`, which returns `True` or `False` on the parameter `x`."
   ]
  },
  {
   "cell_type": "code",
   "execution_count": null,
   "metadata": {},
   "outputs": [],
   "source": []
  },
  {
   "cell_type": "markdown",
   "metadata": {},
   "source": [
    "We could call this function by passing the name of another function as parameter `test`. But this would require us to define and name this function, while we often simply want to pass a simple expression that returns a boolean value. This can be achieved by so-called [lambda expressions](https://docs.python.org/3/reference/expressions.html#lambda), a special type of anonymous function. The general syntax is: \n",
    "\n",
    "```\n",
    "lambda params: expression\n",
    "```\n",
    "\n",
    "With this, we can for instance pass an expression that checks whether the parameter is a string. We can do this using the `isistance(x, y)` function, which checks whether `x` is an instance of the class `y`.\n",
    "\n",
    "<span style=\"color:red\">**TODO:** Call the function `perform_test` on an integer and pass a lambda expression that checks whether the argument `x` is a string.</span>"
   ]
  },
  {
   "cell_type": "code",
   "execution_count": null,
   "metadata": {},
   "outputs": [],
   "source": []
  },
  {
   "cell_type": "markdown",
   "metadata": {},
   "source": [
    "## 4. Loops and if-clauses"
   ]
  },
  {
   "cell_type": "markdown",
   "metadata": {},
   "source": [
    "We can use for-loops to execute statements for a given number of elements. Instead of the syntax `for (int i=0; i<10; i++)` which you may know from languages like Java or C, in `python` the syntax of the for-loop is\n",
    "\n",
    "`for i in SEQUENCE:`\n",
    "\n",
    "where `SEQUENCE` can be any iterable object. For the common case that we want to iterate over increasing or decreasing numbers, we can use the `range(start=0,stop)` function. It generates a sequence of numbers in a given range, that we can then iterate over. The `stop` argument is an **non-inclusive** upper bound of the sequence, the start argument is an `inclusive` lower bound. The default value for `start` is zero, so a call to range(10) generates a sequence consisting of the 10 numbers [0,1,2,3,4,5,6,7,8,9].\n",
    "\n",
    "<span style=\"color:red\">**TODO:** Iterate over the integers from 1 to 15 and print each value.</span>"
   ]
  },
  {
   "cell_type": "code",
   "execution_count": null,
   "metadata": {},
   "outputs": [],
   "source": []
  },
  {
   "cell_type": "markdown",
   "metadata": {},
   "source": [
    "As we see in the following cell, the `range` function returns an iterable `range` object:"
   ]
  },
  {
   "cell_type": "code",
   "execution_count": null,
   "metadata": {},
   "outputs": [],
   "source": []
  },
  {
   "cell_type": "markdown",
   "metadata": {},
   "source": [
    "We can generate the actual ordered list of numbers by passing this iterable object to the constructor of the class ``list`.\n",
    "\n",
    "<span style=\"color:red\">**TODO:** Generate a list from the `range` object created above.</span>"
   ]
  },
  {
   "cell_type": "code",
   "execution_count": null,
   "metadata": {},
   "outputs": [],
   "source": []
  },
  {
   "cell_type": "markdown",
   "metadata": {},
   "source": [
    "The syntax of `while` loops is more familiar:\n",
    "\n",
    "```while EXPRESSION:\n",
    "    STATEMENT\n",
    "```\n",
    "\n",
    "<span style=\"color:red\">**TODO:** Use a while loop to iterate over the integers from 1 to 15 and print each value.</span>"
   ]
  },
  {
   "cell_type": "code",
   "execution_count": null,
   "metadata": {},
   "outputs": [],
   "source": []
  },
  {
   "cell_type": "markdown",
   "metadata": {},
   "source": [
    "As in other languages, `if`-clauses allow us to execute statements conditionally. They use a similar syntax as loops, i.e. a colon followed by multiple indented statements. The `else` and `elif` branches are optional and can be omitted. `elif` is short for `else if`, i.e. it is an additional condition checked if the previous one does not apply.\n",
    "\n",
    "<span style=\"color:red\">**TODO:** Write a simple `if` statement with an `else` and an `elif` branch.</span>"
   ]
  },
  {
   "cell_type": "code",
   "execution_count": null,
   "metadata": {},
   "outputs": [],
   "source": []
  },
  {
   "cell_type": "markdown",
   "metadata": {},
   "source": [
    "## 5. Lists and dictionaries\n",
    "\n",
    "A particularly appealing feature of python are its powerful built-in support for list, sequences, sets and dictionaries. Compared to other languages, they are particularly easy to use. A list consisting of elements with arbitrary (and different) types can be defined by grouping them with angular brackets. \n",
    "\n",
    "<span style=\"color:red\">**TODO:** Create a list that contains integers, strings, floats, and a boolean.</span>"
   ]
  },
  {
   "cell_type": "code",
   "execution_count": null,
   "metadata": {},
   "outputs": [],
   "source": []
  },
  {
   "cell_type": "markdown",
   "metadata": {},
   "source": [
    "The `append` function can be used to add an element to the end of a list.\n",
    "\n",
    "<span style=\"color:red\">**TODO:** Append a string element to the list above.</span>"
   ]
  },
  {
   "cell_type": "code",
   "execution_count": null,
   "metadata": {},
   "outputs": [],
   "source": []
  },
  {
   "cell_type": "markdown",
   "metadata": {},
   "source": [
    "We can access list elements via their zero-based index.\n",
    "\n",
    "<span style=\"color:red\">**TODO:** Print the first and third element of the list.</span>"
   ]
  },
  {
   "cell_type": "code",
   "execution_count": null,
   "metadata": {},
   "outputs": [],
   "source": []
  },
  {
   "cell_type": "markdown",
   "metadata": {},
   "source": [
    "The `insert` function allows us to insert an element at a given index.\n",
    "\n",
    "<span style=\"color:red\">**TODO:** Insert a float at the third position of the list.</span>"
   ]
  },
  {
   "cell_type": "code",
   "execution_count": null,
   "metadata": {},
   "outputs": [],
   "source": []
  },
  {
   "cell_type": "markdown",
   "metadata": {},
   "source": [
    "The `remove` function will remove all occurrences of a given value from the list.\n",
    "\n",
    "<span style=\"color:red\">**TODO:** Remove an element from the list.</span>"
   ]
  },
  {
   "cell_type": "code",
   "execution_count": null,
   "metadata": {},
   "outputs": [],
   "source": []
  },
  {
   "cell_type": "markdown",
   "metadata": {},
   "source": [
    "Finally, we can use the `pop` function to remove (and return) an element at a given index. If no index is specified the function will remove the last element in the list. This implies that we can simply use the `append` and `pop` functions of the `list` class if we need a LIFO stack data structure. If we need  a FIFO queue, we can simply use `insert(0, x)` and `pop()` on a `list`.\n",
    "\n",
    "<span style=\"color:red\">**TODO:** Use the `pop` function to extract the first and last element of the list.</span>"
   ]
  },
  {
   "cell_type": "code",
   "execution_count": null,
   "metadata": {},
   "outputs": [],
   "source": []
  },
  {
   "cell_type": "markdown",
   "metadata": {},
   "source": [
    "Lists are iterable objects for which we can directly iterate through the elements by a for-loop:\n",
    "\n",
    "<span style=\"color:red\">**TODO:** Use a for loop to print all elements in the list.</span>"
   ]
  },
  {
   "cell_type": "code",
   "execution_count": null,
   "metadata": {},
   "outputs": [],
   "source": []
  },
  {
   "cell_type": "markdown",
   "metadata": {},
   "source": [
    "A very powerful concept in `python` is **list comprehension**. It allows you to define lists using an intuitive notation, which resembles a mathematical definition of a list. The general syntax is: \n",
    "\n",
    "`[expression for element in iterable]`\n",
    "\n",
    "This is particularly useful if we want to generate number sequences based on arbitrary mathematical expressions.\n",
    "\n",
    "<span style=\"color:red\">**TODO:** Define a list that contains the first 10 values of the harmonic sequence $\\frac{1}{x}$ .</span>"
   ]
  },
  {
   "cell_type": "code",
   "execution_count": null,
   "metadata": {},
   "outputs": [],
   "source": []
  },
  {
   "cell_type": "markdown",
   "metadata": {},
   "source": [
    "Different from a list, a dictionary is a structure that contains key-value pairs, i.e. we have a set of (unique) keys, each of which is assigned exactly one value (though this value can be a list containing several items). We can create an empty dictionary either by using the constructor of the `dict` class. We can then assign values to the keys in a dictionary `d` by using the bracket notation `d[key] = value`.\n",
    "\n",
    "<span style=\"color:red\">**TODO:** Define an empty dictionary and assign values to arbitrary string keys.</span>"
   ]
  },
  {
   "cell_type": "code",
   "execution_count": null,
   "metadata": {},
   "outputs": [],
   "source": []
  },
  {
   "cell_type": "markdown",
   "metadata": {},
   "source": [
    "We can alternatively use the curly bracket notation `{ key1: value1, key2: value2}` to define a dictionary with multiple key-value pairs.\n",
    "\n",
    "<span style=\"color:red\">**TODO:** Use the curly bracket notation to define the same dictionary as above..</span>"
   ]
  },
  {
   "cell_type": "code",
   "execution_count": null,
   "metadata": {},
   "outputs": [],
   "source": []
  },
  {
   "cell_type": "markdown",
   "metadata": {},
   "source": [
    "If we assign a value to a key, the dictionary is either expanded, or the value of an existing key will be overwritten."
   ]
  },
  {
   "cell_type": "code",
   "execution_count": null,
   "metadata": {},
   "outputs": [],
   "source": []
  },
  {
   "cell_type": "markdown",
   "metadata": {},
   "source": [
    "We can use the `in` operator to check whether a key is already contained in the dictionary. Since the dicionary implementation internally hashes the keys, this is an O(1) operation.\n",
    "\n",
    "<span style=\"color:red\">**TODO:** Use the `in` operator to check for an existing and non-existing key in the dictionary.</span>"
   ]
  },
  {
   "cell_type": "code",
   "execution_count": null,
   "metadata": {},
   "outputs": [],
   "source": []
  },
  {
   "cell_type": "markdown",
   "metadata": {},
   "source": [
    "When we iterate over a dictionary, we actually iterate over the keys and the key elements are not necessarily in the same order as they were added. We can alternatively use the `items()` function to iterate over key-value pairs.\n",
    "\n",
    "<span style=\"color:red\">**TODO:** Use two for loops to iterate over (i) the keys and (ii) the key-value pairs of the dictionary.</span>"
   ]
  },
  {
   "cell_type": "code",
   "execution_count": null,
   "metadata": {},
   "outputs": [],
   "source": []
  },
  {
   "cell_type": "markdown",
   "metadata": {},
   "source": [
    "Speaking of order, lists and tuples are ordered and elements are not necessarily unique. If we test for equality, the order as well as multiple elements are considered. \n",
    "\n",
    "<span style=\"color:red\">**TODO:** Create three lists with elements 1,2,3,4. In list 1 and 2 elements should be in different order, in list 3 one element should occur twice. Test the equality of list 1 and 2 and list 2 and 3</span>"
   ]
  },
  {
   "cell_type": "code",
   "execution_count": null,
   "metadata": {},
   "outputs": [],
   "source": []
  },
  {
   "cell_type": "markdown",
   "metadata": {},
   "source": [
    "If we want to store unordered collections of elements, we can use the `set` class. This class offers the `add` function to add elements. In a `set`, the same element can not be added twice.\n",
    "\n",
    "<span style=\"color:red\">**TODO:** Create a set, add the same element and print the result.</span>"
   ]
  },
  {
   "cell_type": "code",
   "execution_count": null,
   "metadata": {},
   "outputs": [],
   "source": []
  },
  {
   "cell_type": "markdown",
   "metadata": {},
   "source": [
    "We can turn any iterable into a set by passing it to the constructor of the `set` class. This allows us to check, e.g. whether multiple lists contain the same elements (irrespective of ordering and not accounting for multiple occurrences of elements).\n",
    "\n",
    "<span style=\"color:red\">**TODO:** Create sets from the three lists created above. Test the equality of set 1 and 2 and of set 2 and 3.</span>"
   ]
  },
  {
   "cell_type": "code",
   "execution_count": null,
   "metadata": {},
   "outputs": [],
   "source": []
  },
  {
   "cell_type": "markdown",
   "metadata": {},
   "source": [
    "Finally, python comes with a class to store a  `tuple`. Just like lists, tuples are ordered collections where the same element can occur multiple times. But different from lists, python tuples are immutable, i.e. once they are created we cannot change them. We can create a tuple by using the round bracket notation `(elem1, elem2, elem3)`.\n",
    "\n",
    "<span style=\"color:red\">**TODO:** Create a tuple and try to change an element.</span>"
   ]
  },
  {
   "cell_type": "code",
   "execution_count": null,
   "metadata": {},
   "outputs": [],
   "source": []
  }
 ],
 "metadata": {
  "kernelspec": {
   "display_name": "Python 3",
   "language": "python",
   "name": "python3"
  },
  "language_info": {
   "codemirror_mode": {
    "name": "ipython",
    "version": 3
   },
   "file_extension": ".py",
   "mimetype": "text/x-python",
   "name": "python",
   "nbconvert_exporter": "python",
   "pygments_lexer": "ipython3",
   "version": "3.7.5"
  }
 },
 "nbformat": 4,
 "nbformat_minor": 1
}
