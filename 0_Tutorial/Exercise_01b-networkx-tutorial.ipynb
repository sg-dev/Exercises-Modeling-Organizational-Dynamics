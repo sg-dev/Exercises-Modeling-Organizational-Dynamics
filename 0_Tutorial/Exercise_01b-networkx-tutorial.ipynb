{
 "cells": [
  {
   "cell_type": "markdown",
   "metadata": {
    "slideshow": {
     "slide_type": "slide"
    }
   },
   "source": [
    "# Exercise 01b - `networkx` tutorial\n",
    "\n",
    "In this exercise, we will introduce data science and network analysis basics with `networkx`."
   ]
  },
  {
   "cell_type": "markdown",
   "metadata": {},
   "source": [
    "## 1. Introduction to `networkx`\n",
    "    \n",
    "Now that we know the basics of `python` from Exercise 1a, let us introduce some basics of `networkx`, a network analysis package.\n",
    "\n",
    "<span style=\"color:red\">**TODO:** Import `networkx` and assign it the local alias `nx`.</span>"
   ]
  },
  {
   "cell_type": "code",
   "execution_count": 1,
   "metadata": {},
   "outputs": [],
   "source": []
  },
  {
   "cell_type": "markdown",
   "metadata": {},
   "source": [
    "If the `import` statement completes without error, the installation was successful and we can now use `networkx` to visualise and analyse complex networks. \n",
    "\n",
    "<span style=\"color:red\">**TODO:** Create an empty directed network instance using `DiGraph`.</span>"
   ]
  },
  {
   "cell_type": "code",
   "execution_count": 2,
   "metadata": {},
   "outputs": [],
   "source": []
  },
  {
   "cell_type": "markdown",
   "metadata": {},
   "source": [
    "We can add nodes and edges by calling the functions `add_node` and `add_edge`. \n",
    "\n",
    "<span style=\"color:red\">**TODO:** Add three nodes 'a', 'b', and 'c' and two edges `(a, b)` and `(b,c)` to the network and print a summary.</span>"
   ]
  },
  {
   "cell_type": "code",
   "execution_count": null,
   "metadata": {},
   "outputs": [],
   "source": []
  },
  {
   "cell_type": "markdown",
   "metadata": {},
   "source": [
    "We can now plot the network using `nx.draw(G)`.\n",
    "\n",
    "<span style=\"color:red\">**TODO:** Visualize the network. Try to add a layout, e.g. nx.spring_layout()</span>"
   ]
  },
  {
   "cell_type": "code",
   "execution_count": null,
   "metadata": {},
   "outputs": [],
   "source": []
  },
  {
   "cell_type": "markdown",
   "metadata": {},
   "source": [
    "If we do not want to explicitly add isolated nodes, we can omit the call to `add_node`. We can simply add edges, which will automatically add those nodes that haven't been created before.\n",
    "\n",
    "<span style=\"color:red\">**TODO:** Add two edges `(c,d)` and `(d, a)` to the network and visualise it.</span>"
   ]
  },
  {
   "cell_type": "code",
   "execution_count": 5,
   "metadata": {},
   "outputs": [],
   "source": []
  },
  {
   "cell_type": "markdown",
   "metadata": {},
   "source": [
    "if we want to count the number of nodes or edges, we can use the `number_of_nodes()` and `number_of_edges()` functions.\n",
    "\n",
    "<span style=\"color:red\">**TODO:** Print the number of nodes and links of this network.</span>"
   ]
  },
  {
   "cell_type": "code",
   "execution_count": null,
   "metadata": {},
   "outputs": [],
   "source": []
  },
  {
   "cell_type": "markdown",
   "metadata": {},
   "source": [
    "The `nodes` dictionary of a `networkx` object contains all nodes of the network. We can use a for loop to iterate through its elements. \n",
    "\n",
    "<span style=\"color:red\">**TODO:** Use the `nodes` dictionary of the class `Network` to print all nodes.</span>"
   ]
  },
  {
   "cell_type": "code",
   "execution_count": null,
   "metadata": {},
   "outputs": [],
   "source": []
  },
  {
   "cell_type": "markdown",
   "metadata": {},
   "source": [
    "We can access properties of individual nodes by indexing the `nodes` dictionary with the node name.\n",
    "\n",
    "<span style=\"color:red\">**TODO:** Print the properties of node `a`.</span>"
   ]
  },
  {
   "cell_type": "code",
   "execution_count": null,
   "metadata": {},
   "outputs": [],
   "source": []
  },
  {
   "cell_type": "markdown",
   "metadata": {},
   "source": [
    "We observe that the `Network` class stores a dictionary for each node. This dictionary contains node properties as key-value pairs. Default properties for an undirected network are `inweight` and `outweight` which count the weights of edges, and the `degree`, i.e. the number of neighbours to which a node is connected. For directed networks, we have an `indegree` and `outdegree`, which count the number of links that point to a node and away from the node respectively. Since the node properties are stored in a dictionary, we can store arbitrary additional node properties as key value pairs. \n",
    "\n",
    "<span style=\"color:red\">**TODO:** Set an age property for each node in the network.</span>"
   ]
  },
  {
   "cell_type": "code",
   "execution_count": 9,
   "metadata": {},
   "outputs": [],
   "source": []
  },
  {
   "cell_type": "markdown",
   "metadata": {},
   "source": [
    "Printing the `nodes` dictionary again reveals that an age property was added to the property dictionaries of each node.\n",
    "\n",
    "<span style=\"color:red\">**TODO:** Iterate through all nodes and print all node properties.</span>"
   ]
  },
  {
   "cell_type": "code",
   "execution_count": null,
   "metadata": {},
   "outputs": [],
   "source": []
  },
  {
   "cell_type": "markdown",
   "metadata": {},
   "source": [
    "Finally, we are often interested to search for those nodes in a network which have certain properties. For this we can use the `find_nodes` function. It returns all nodes whose properties match a certain condition, which we can set using a lambda expression.\n",
    "\n",
    "<span style=\"color:red\">**TODO:** Print all nodes whose age is larger than 40.</span>"
   ]
  },
  {
   "cell_type": "code",
   "execution_count": null,
   "metadata": {},
   "outputs": [],
   "source": []
  },
  {
   "cell_type": "markdown",
   "metadata": {},
   "source": [
    "The `edges` dictionary of the network contains all edges (links) in the network, along with their properties:\n",
    "\n",
    "<span style=\"color:red\">**TODO:** Iterate through the edge dictionary of the `network` instance</span>"
   ]
  },
  {
   "cell_type": "code",
   "execution_count": null,
   "metadata": {},
   "outputs": [],
   "source": []
  },
  {
   "cell_type": "markdown",
   "metadata": {},
   "source": [
    "We see that each edge is stored as a python `tuple`, where the elements are the source and target node. Just like for the nodes, each edge can contain arbitrary attributes that are stored in a dictionary. We can add a `weight` attribute which counts the number of edges between two nodes. We can add weighte dedges with the function `add_weighted_edges_from`.\n",
    "\n",
    "<span style=\"color:red\">**TODO:** Set the weight attribute of each edge to 1 and then set one edge's weight to 2. </span>"
   ]
  },
  {
   "cell_type": "code",
   "execution_count": 13,
   "metadata": {},
   "outputs": [],
   "source": []
  },
  {
   "cell_type": "markdown",
   "metadata": {},
   "source": [
    "Just like for nodes, we can search for edges that exhibit certain attributes. \n",
    "<span style=\"color:red\">**TODO:** Print all edges that have a weight larger than 1.0</span>"
   ]
  },
  {
   "cell_type": "code",
   "execution_count": null,
   "metadata": {},
   "outputs": [],
   "source": []
  },
  {
   "cell_type": "markdown",
   "metadata": {},
   "source": [
    "Finally, we can also remove nodes or edges. Importantly, we assume that a network can contain isolated nodes (i.e. nodes with no incident edges), while it can (obviously) only contain edges between nodes that actually exist. \n",
    "\n",
    "This has the important implication that a call to `remove_node` will remove all edges incident to the removed node. A call to `remove_edge` on the other hand, does not remove the nodes to which the edge is connected, thus possibly isolating the node.\n",
    "\n",
    "<span style=\"color:red\">**TODO:** Remove node `a` as well as edge `(c,d)` and visualise the remaining network</span>"
   ]
  },
  {
   "cell_type": "code",
   "execution_count": null,
   "metadata": {},
   "outputs": [],
   "source": []
  },
  {
   "cell_type": "markdown",
   "metadata": {},
   "source": [
    "## 2. Reading and writing network data\n",
    "\n",
    "In the course, we will often analyse real-world data on complex networks. The simplest way to store such data is in terms of adjacency lists, i.e. a text file where each line contains the source and target of an edge, separated by a special character.\n",
    "\n",
    "<span style=\"color:red\">**TODO**: Store the example network in a file `01_example_network.edges` and take a look at the generated file</span>"
   ]
  },
  {
   "cell_type": "code",
   "execution_count": 30,
   "metadata": {},
   "outputs": [],
   "source": []
  },
  {
   "cell_type": "markdown",
   "metadata": {},
   "source": [
    "We can load network data files using the function `read_edgelist`. Test what the `delimiter` and `create_using` parameters do.\n",
    "<span style=\"color:red\">**TODO**: Load the example network from the file `01_example_network.edges`</span>"
   ]
  },
  {
   "cell_type": "code",
   "execution_count": 31,
   "metadata": {},
   "outputs": [],
   "source": []
  },
  {
   "cell_type": "markdown",
   "metadata": {},
   "source": [
    "## 3. Visualising networks\n",
    "\n"
   ]
  },
  {
   "cell_type": "markdown",
   "metadata": {},
   "source": [
    "We can customize the style of the network visualization by passing a parameter dictionary `style`. \n",
    "\n",
    "<span style=\"color:red\">**TODO**: Create a parameter dictionary `style` that assigns individual colors to nodes, and adjust node size and edge width and color.</span>"
   ]
  },
  {
   "cell_type": "code",
   "execution_count": null,
   "metadata": {},
   "outputs": [],
   "source": [
    "help(nx.draw_networkx)"
   ]
  },
  {
   "cell_type": "code",
   "execution_count": null,
   "metadata": {},
   "outputs": [],
   "source": []
  }
 ],
 "metadata": {
  "kernelspec": {
   "display_name": "tutorial_venv_new",
   "language": "python",
   "name": "python3"
  },
  "language_info": {
   "codemirror_mode": {
    "name": "ipython",
    "version": 3
   },
   "file_extension": ".py",
   "mimetype": "text/x-python",
   "name": "python",
   "nbconvert_exporter": "python",
   "pygments_lexer": "ipython3",
   "version": "3.12.3"
  }
 },
 "nbformat": 4,
 "nbformat_minor": 1
}
