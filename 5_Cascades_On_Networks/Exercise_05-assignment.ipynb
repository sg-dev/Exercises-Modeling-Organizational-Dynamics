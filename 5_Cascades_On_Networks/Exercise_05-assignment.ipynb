{
 "cells": [
  {
   "cell_type": "markdown",
   "metadata": {},
   "source": [
    "# Exercise: Cascading Processes on Networks\n",
    "\n",
    "\n",
    "In this exercise, we implement and analyse the models presented in  the lecture.  We provide you with an almost complete mesa model that implements all the model variants discussed in the lecture.\n",
    "Only the simplest *constant load inward and outward variants* are left out for you to implement. \n",
    "\n",
    "\n",
    "### Tasks\n",
    "1. **Complete the `inward` and `outward` model variants**  \n",
    "    Inspect the code provided to you.\n",
    "    You find incomplete code stubs starting on line 77 in `agent.py`, which you should complete.\n",
    "    \n",
    "2. **Test your implementation**  \n",
    "    Run the model variant you implemented for known cascade processes and confirm the correctness of your implementation.\n",
    "    \n",
    "3. **Compute the $(\\mu, \\sigma)$ phase diagram seen in the lecture**  \n",
    "    In the lecture you saw the results of calculations from the macroscopic perspective to the problem for varying means and variances of the load distribution.  Here, you are asked to reproduce the  $(\\mu, \\sigma)$ diagram through microscopic ABM simulation\n"
   ]
  },
  {
   "cell_type": "code",
   "execution_count": 2,
   "metadata": {},
   "outputs": [],
   "source": [
    "%reload_ext autoreload\n",
    "%autoreload 2\n",
    "\n",
    "import numpy as np\n",
    "import matplotlib.pyplot as plt\n",
    "import networkx as nx\n",
    "\n",
    "from model import CascadeNetwork"
   ]
  },
  {
   "cell_type": "markdown",
   "metadata": {},
   "source": [
    "## Task 2: run the model\n",
    "\n",
    "Once you finish Task 1 (see above), you can test if the model works correctly.\n",
    "\n",
    "The adjacency matrix, loads and capacities shown here are taken from the original paper by Lorenz et. al., \n",
    "`DOI: 10.1140/epjb/e2009-00347-4`\n",
    "\n",
    "You can find the rest of the examples in the paper implemented in `test.py`.  \n",
    "Note that you can run that file in command line and see the model evolution reported over time:\n",
    "```\n",
    "$ python3 test.py\n",
    "Step 0:\n",
    "Node 0 (Capacity = 1.7): Load 1.00, non-failed\n",
    "Node 1 (Capacity = 1.7): Load 1.00, non-failed\n",
    "Node 2 (Capacity = 1.3): Load 1.00, non-failed\n",
    "Node 3 (Capacity = 1.3): Load 1.00, non-failed\n",
    "...\n",
    "```"
   ]
  },
  {
   "cell_type": "code",
   "execution_count": 2,
   "metadata": {},
   "outputs": [],
   "source": [
    "adj_matrix = np.matrix([[0, 0, 1, 0, 0, 0, 0, 0, 0],\n",
    "                        [0, 0, 1, 0, 0, 0, 0, 0, 0],\n",
    "                        [1, 1, 0, 1, 0, 0, 0, 0, 0],\n",
    "                        [0, 0, 1, 0, 1, 0, 0, 0, 0],\n",
    "                        [0, 0, 0, 1, 0, 1, 1, 1, 1],\n",
    "                        [0, 0, 0, 0, 1, 0, 0, 0, 0],\n",
    "                        [0, 0, 0, 0, 1, 0, 0, 0, 0],\n",
    "                        [0, 0, 0, 0, 1, 0, 0, 0, 0],\n",
    "                        [0, 0, 0, 0, 1, 0, 0, 0, 0]])\n",
    "\n",
    "load_vec_7 = [1, 1, 3.6, 1, 1, 1, 1, 1, 1]\n",
    "capacity_vec_7 = [1.7, 1.7, 1.3, 1.3, 1.5, 1.55, 1.55, 1.55, 1.55]"
   ]
  },
  {
   "cell_type": "code",
   "execution_count": null,
   "metadata": {
    "scrolled": true
   },
   "outputs": [],
   "source": [
    "# instantiate model and run it with model_type=\"constant\", load_type=\"in\" and test=True\n",
    "# YOUR CODE HERE"
   ]
  },
  {
   "cell_type": "markdown",
   "metadata": {},
   "source": [
    "#### Testing your implementation\n",
    "\n",
    "Note, that it is difficult to judge if your implementation is correct from the above example.\n",
    "Instead, try the model for a smaller network, for which first compute the cascade by hand. Then, compare the simulation and the result computed by hand."
   ]
  },
  {
   "cell_type": "code",
   "execution_count": null,
   "metadata": {},
   "outputs": [],
   "source": [
    "## THIS TASK IS TECHNICALLY STRAIGHFORWARD TO DO, \n",
    "## AS YOU CAN JUST ADJUST THE VALUES IN THE ABOVE TWO CELLS\n",
    "##\n",
    "## INSTEAD, LET US HAVE SOME FUN HERE AND SEE IF WE CAN BUILD THE ADJACENCY MATRIX DIFFERENTLY\n",
    "\n",
    "# Define how many nodes we want to have in the network\n",
    "nnodes = 5\n",
    "# Define the network by means of an \"edge list\"\n",
    "edges = [\n",
    "    (0,1),\n",
    "    (0,2),\n",
    "    (0,3),\n",
    "    (3,4),\n",
    "]\n",
    "\n",
    "## Now, let us build the adjacency matrix from the edge list\n",
    "## First, we create an 2 dimensional array of the correct size, populated with zeros (no edges)\n",
    "adj_test = np.zeros((nnodes, nnodes))\n",
    "\n",
    "## Next, we need to set to ones the elements that correspond to edges in the network\n",
    "## A clean and readable solution is to write a for-loop:\n",
    "for i,j in edges:\n",
    "    adj_test[i,j] = 1\n",
    "\n",
    "## Pay attention to the fact that we used tuple \"unpacking\"\n",
    "## I.e., each step in the for loop is one edge, but one edge is a tuple of two elements\n",
    "## So we assigned the variables i and j to the elements of this tuple in the same line as the for loop declaration\n",
    "\n",
    "\n",
    "## Alternatively, let as do something less readable, but what showes some new functionality\n",
    "adj_test1 = np.zeros((nnodes, nnodes))\n",
    "adj_test1[tuple(zip(*edges))] = 1\n",
    "\n",
    "print('Are the two matrices the same?')\n",
    "print(adj_test == adj_test1)\n",
    "## what we did above is to reshape `edges` into two tuples, ((0, 0, 0, 3), (1, 2, 3, 4)),\n",
    "## which is a valid way to index multi-dimensional numpy arrays\n",
    "## Here, pay attention to the very useful function `zip`, which does what the name says:\n",
    "## it \"zips\" iterables elementwise, like the two zipper sides do on your jacket\n",
    "## Interestingly, zip function is its own inverse function,\n",
    "## i.e., it \"unzips\" a `zippedobject` if you do zip(*zippedobject)\n",
    "\n",
    "\n",
    "## Now, let us assume our network is not directed\n",
    "## To implement that, we need to make the adjacency matrix symmetric\n",
    "## Given that we have each edge in the edge list only ones (as (i,j) or (j,i), but not both)\n",
    "# We can get our undirected adjacency matrix by adding the transpose of the directed one to itself\n",
    "adj_test += adj_test.T\n",
    "\n",
    "print(\"\\nOur adjacency matrix\")\n",
    "print(adj_test)"
   ]
  },
  {
   "cell_type": "markdown",
   "metadata": {},
   "source": [
    "Now, let us run the *inward* and *outward* variants of the model for the given adjacency and the following loads and capacities.\n",
    "\n",
    "You can confirm the correctness of the model dynamics by simple manual calculation based on formulas in lecture. You may find it helpful to plot the network at each step. For this, you may use the function provided in `plotting_functions.py`"
   ]
  },
  {
   "cell_type": "code",
   "execution_count": 79,
   "metadata": {},
   "outputs": [],
   "source": [
    "from plotting_functions import plot_graph_with_labels"
   ]
  },
  {
   "cell_type": "code",
   "execution_count": 108,
   "metadata": {},
   "outputs": [],
   "source": [
    "load_vec_test = [0,0,0,0,0]\n",
    "capacity_vec_test = [0, .7, .3, .8, .5]"
   ]
  },
  {
   "cell_type": "code",
   "execution_count": 117,
   "metadata": {},
   "outputs": [],
   "source": [
    "model = CascadeNetwork(adj_test, load_vec_test, capacity_vec_test,\n",
    "                       model_type=\"load\", load_type=\"llss\", test=True)"
   ]
  },
  {
   "cell_type": "code",
   "execution_count": null,
   "metadata": {},
   "outputs": [],
   "source": [
    "# instantiate model and run it with model_type=\"constant\", load_type=\"in\" and test=True. \n",
    "# If you want to plot the network for checking if the sims are correct, you may complete the following code.\n",
    "# Look carefully at the plotting funciton. It requires a graph with certain node attributes\n",
    "\n",
    "while model.running:\n",
    "    G = model.network.copy()\n",
    "    load_vec = [a.load for a in model.agents]\n",
    "    capacity_vec = ...\n",
    "\n",
    "    nodes = list(G.nodes())\n",
    "    for i, node in enumerate(nodes):\n",
    "        G.nodes[node]['load'] = round(load_vec[i], 2)\n",
    "        G.nodes[node]['capacity'] = ...\n",
    "        if node in model.healthy_ids:\n",
    "            G.nodes[node]['state'] = 'healthy'\n",
    "        elif ...:\n",
    "            ...\n",
    "        else:\n",
    "            ...\n",
    "\n",
    "    plot_graph_with_labels(G, pos=pos)\n",
    "    model.step()"
   ]
  },
  {
   "cell_type": "code",
   "execution_count": null,
   "metadata": {},
   "outputs": [],
   "source": [
    "# do the same for the outward variant, i.e., model_type=\"constant\", load_type=\"in\" and test=True."
   ]
  },
  {
   "cell_type": "markdown",
   "metadata": {},
   "source": [
    "## Task 3: Phase diagram"
   ]
  },
  {
   "cell_type": "code",
   "execution_count": 94,
   "metadata": {},
   "outputs": [],
   "source": [
    "def fraction_failed(model):\n",
    "    \"\"\"Return the fraction of the failed nodes for the given `model`\"\"\"\n",
    "    states = [node.failed for node in model.agents]\n",
    "    N = model.num_nodes\n",
    "    return sum(states) / N"
   ]
  },
  {
   "cell_type": "code",
   "execution_count": 95,
   "metadata": {},
   "outputs": [],
   "source": [
    "fixed_params = {'adj_matrix': adj_matrix,\n",
    "                'load_vec': np.ones(adj_matrix.shape[0]), # all load equal to one\n",
    "                'model_type': 'constant', \n",
    "                'load_type': 'in'}\n",
    "\n",
    "\n",
    "mus = np.arange(0, 1, step=0.02)\n",
    "sigmas = np.arange(0, 1, step=0.02)\n",
    "repetitions = 5"
   ]
  },
  {
   "cell_type": "code",
   "execution_count": 96,
   "metadata": {},
   "outputs": [],
   "source": [
    "average_cascade_size = np.zeros((len(mus), len(sigmas)))\n",
    "\n",
    "for i, mu in enumerate(mus):\n",
    "    for j, sigma in enumerate(sigmas):\n",
    "        sizes = []\n",
    "        for _ in range(repetitions):\n",
    "            c_vec = np.random.normal(mu, sigma, size=adj_matrix.shape[0])\n",
    "            model = CascadeNetwork(capacity_vec=c_vec, **fixed_params)\n",
    "            \n",
    "            while model.running and model.steps < 100:\n",
    "                model.steps += 1  # Simulate model step\n",
    "                model.step()\n",
    "            \n",
    "            sizes.append(fraction_failed(model))\n",
    "        \n",
    "        average_cascade_size[i, j] = np.mean(sizes)"
   ]
  },
  {
   "cell_type": "markdown",
   "metadata": {},
   "source": [
    "Now, let us plot the phase diagram.\n",
    "\n",
    "Display the correct values of $\\mu$ and $\\sigma$ on the axes. Refer to `pyplot` documentation to learn how."
   ]
  },
  {
   "cell_type": "code",
   "execution_count": null,
   "metadata": {},
   "outputs": [],
   "source": [
    "# YOU PLOTTING CODE HERE"
   ]
  }
 ],
 "metadata": {
  "kernelspec": {
   "display_name": "tutorial_venv_new",
   "language": "python",
   "name": "python3"
  },
  "language_info": {
   "codemirror_mode": {
    "name": "ipython",
    "version": 3
   },
   "file_extension": ".py",
   "mimetype": "text/x-python",
   "name": "python",
   "nbconvert_exporter": "python",
   "pygments_lexer": "ipython3",
   "version": "3.12.3"
  }
 },
 "nbformat": 4,
 "nbformat_minor": 2
}
