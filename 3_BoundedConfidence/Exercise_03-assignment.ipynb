{
 "cells": [
  {
   "cell_type": "markdown",
   "metadata": {},
   "source": [
    "## Exercise 08: \n",
    "# Bounded confidence model: analysis of consensus and bias"
   ]
  },
  {
   "cell_type": "markdown",
   "metadata": {},
   "source": [
    "You will implement the three variants (pairwise, symmetric group influence, and asymmetric group influence) of the bounded confidence model, and visualise the dynamics of collective opinions and its variations according to the model's parameters.\n",
    "The description of the model can be found in the slides of Lecture 3.1."
   ]
  },
  {
   "cell_type": "code",
   "execution_count": 1,
   "metadata": {},
   "outputs": [],
   "source": [
    "%reload_ext autoreload\n",
    "%autoreload 2"
   ]
  },
  {
   "cell_type": "markdown",
   "metadata": {},
   "source": [
    "## Task 1: Pairwise \n",
    "\n",
    "Complete the `BoundedConfidenceModel` class by adding the pairwise interactions in the `step` method.\n",
    "Check the `BoundedConfidenceAgent` class to understand which attributes needs to be updated."
   ]
  },
  {
   "cell_type": "code",
   "execution_count": null,
   "metadata": {},
   "outputs": [],
   "source": [
    "from model import BoundedConfidenceModel"
   ]
  },
  {
   "cell_type": "markdown",
   "metadata": {},
   "source": [
    "## Taks 2: Simulate pairwise interactions\n",
    "\n",
    "Create a plot function for showing the evolution of opinions over time.\n",
    "Note that datacollector in `BoundedConfidenceModel` is collecting \"Opinion\" of each agent and by using  `get_agent_vars_dataframe` we can obtain the data in a dataframe with indices \"AgentID\" and \"Step\". Simulate the model for 30 agents and 500 steps."
   ]
  },
  {
   "cell_type": "code",
   "execution_count": 2,
   "metadata": {},
   "outputs": [],
   "source": [
    "def plot(opinions):\n",
    "    \"\"\" Plot opinion dynamics of all agents \n",
    "\n",
    "    Args:\n",
    "        opinions: a dataframe of three columns [\"Step\", \"AgentID\", \"Opinion\"]\n",
    "    \"\"\"\n",
    "    ...\n",
    "    plt.show()"
   ]
  },
  {
   "cell_type": "code",
   "execution_count": 4,
   "metadata": {},
   "outputs": [],
   "source": [
    "def task2():\n",
    "    # try mu = 0.5, epsilon = 0.5/0.2\n",
    "    model = ...\n",
    "    model.run_model()\n",
    "    opinions = ... # get the data from Datacollector\n",
    "    plot(opinions)"
   ]
  },
  {
   "cell_type": "code",
   "execution_count": null,
   "metadata": {},
   "outputs": [],
   "source": [
    "task2()"
   ]
  },
  {
   "cell_type": "markdown",
   "metadata": {},
   "source": [
    "## Task 3: Symmetric group influence \n",
    "\n",
    "In order to simulate this model, you need to implement the `step` and `advance` methods in the `BoundedConfidenceAgent` class.\n",
    "You can use the equations the slides, and set $\\mu=1$, $\\epsilon=0.15$/$0.25$, num_agents $=500$, max_steps $=15$ to obtain either three or two peaks."
   ]
  },
  {
   "cell_type": "code",
   "execution_count": 21,
   "metadata": {},
   "outputs": [],
   "source": [
    "def task3():\n",
    "    model = ...\n",
    "    model.run_model()\n",
    "    opinions = ... # get the data from Datacollector\n",
    "    plot(opinions)"
   ]
  },
  {
   "cell_type": "code",
   "execution_count": null,
   "metadata": {},
   "outputs": [],
   "source": [
    "task3()"
   ]
  },
  {
   "cell_type": "markdown",
   "metadata": {},
   "source": [
    "## Task 4: Asymmetric group influence \n",
    "\n",
    "Revise the `step` method in the `BoundedConfidenceAgent` class so that it models the interaction dynamics for the case `model_type == \"group asymmetric\"` as well.\n",
    "For this case the agent can have two different $\\epsilon$, e.g. right or left-wing preferences. \n",
    "Set $\\mu=0.5$, $\\epsilon_{left}=0.1$, $\\epsilon_{right}=0.25$, num_agents $=500$, max_steps $=15$ in order to obtain two peaks. Run the model for 500 agents and 15 steps."
   ]
  },
  {
   "cell_type": "code",
   "execution_count": 25,
   "metadata": {},
   "outputs": [],
   "source": [
    "def task4():\n",
    "    model = ...\n",
    "    model.run_model()\n",
    "    opinions = ... # get the data from Datacollector\n",
    "    plot(opinions)"
   ]
  },
  {
   "cell_type": "code",
   "execution_count": null,
   "metadata": {},
   "outputs": [],
   "source": [
    "task4()"
   ]
  },
  {
   "cell_type": "code",
   "execution_count": null,
   "metadata": {},
   "outputs": [],
   "source": []
  }
 ],
 "metadata": {
  "kernelspec": {
   "display_name": "tutorial_venv_new",
   "language": "python",
   "name": "python3"
  },
  "language_info": {
   "codemirror_mode": {
    "name": "ipython",
    "version": 3
   },
   "file_extension": ".py",
   "mimetype": "text/x-python",
   "name": "python",
   "nbconvert_exporter": "python",
   "pygments_lexer": "ipython3",
   "version": "3.12.3"
  }
 },
 "nbformat": 4,
 "nbformat_minor": 2
}
