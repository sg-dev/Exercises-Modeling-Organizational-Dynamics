{
 "cells": [
  {
   "cell_type": "markdown",
   "metadata": {},
   "source": [
    "# Exercise 01: Empirical Networks and Random Graphs\n",
    "\n",
    "\n",
    "In this week's assignment, we apply network analytic methods to empirical data. We further explore the G (n, m) defined in lecture L03 and compare its characteristics to real networks constructed from empirical data. We use the following five empirical data sets:\n",
    "\n",
    "1) the collaboration network of the OpenSource software community `kde`  \n",
    "2) the collaboration network of the OpenSource software community `gentoo`  \n",
    "3) the `powergrid` of the western states of the USA  \n",
    "4) the contact network of students in a `highschool`  \n",
    "5) an information sharing network of `physicists` in the United States  \n",
    "\n",
    "The data are available in separate tables within a single SQLite database file.\n",
    "\n",
    "To simplify the exercise a bit, I provide the following boilerplate code, which imports necessary packages, sets a nice plot style and connects to the database file."
   ]
  },
  {
   "cell_type": "code",
   "execution_count": 1,
   "metadata": {},
   "outputs": [],
   "source": [
    "%matplotlib inline\n",
    "import matplotlib.pyplot as plt\n",
    "import sqlite3\n",
    "import numpy as np\n",
    "import networkx as nx\n",
    "\n",
    "# Connect to the SQLite database.\n",
    "con = sqlite3.connect('data/01_networks.db')\n",
    "con.row_factory = sqlite3.Row\n",
    "\n",
    "def nx_from_sqlite(query, directed=False):\n",
    "    \"\"\"\n",
    "    Executes a SQL query that returns rows with 'source' and 'target' columns,\n",
    "    and returns a NetworkX graph built from the query result.\n",
    "    If directed=True, returns a DiGraph, else an undirected Graph.\n",
    "    \"\"\"\n",
    "    cursor = con.execute(query)\n",
    "    edges = [(row['source'], row['target']) for row in cursor.fetchall()]\n",
    "    if directed:\n",
    "        return nx.DiGraph(edges)\n",
    "    else:\n",
    "        return nx.Graph(edges)\n",
    "\n",
    "# Create NetworkX graphs from the corresponding tables.\n",
    "n_highschool = nx_from_sqlite('SELECT source, target FROM highschool')\n",
    "n_kde        = nx_from_sqlite('SELECT source, target FROM kde')\n",
    "n_gentoo     = nx_from_sqlite('SELECT source, target FROM gentoo')\n",
    "n_powergrid  = nx_from_sqlite('SELECT source, target FROM powergrid')\n",
    "n_physicians = nx_from_sqlite('SELECT source, target FROM physicians')\n"
   ]
  },
  {
   "cell_type": "markdown",
   "metadata": {},
   "source": [
    "## Task 1: Empirical network analysis"
   ]
  },
  {
   "cell_type": "markdown",
   "metadata": {},
   "source": [
    "### 1.1 Node centralities\n",
    "\n",
    "We next study the concept of node centrality measures in real-world social networks.\n",
    "\n",
    "Read the gentoo table as a directed network and the highschool table as an undirected network. Compute the following centralities for the two networks\n",
    "\n",
    "1) in- and out-degree (for directed network), degree (for undirected network)  \n",
    "2) closeness centrality   \n",
    "3) betweenness centrality    \n",
    "\n",
    "Use the `networkx` functions `closeness_centrality` and `betweenness_centrality` to identify the five most central nodes according to those centrality measures."
   ]
  },
  {
   "cell_type": "code",
   "execution_count": null,
   "metadata": {},
   "outputs": [],
   "source": []
  },
  {
   "cell_type": "markdown",
   "metadata": {},
   "source": [
    "### 1.2 Visualising centralities\n",
    "\n",
    "We next study how we can visually represent node centralities in terms of node sizes. Your task is to visualise the node centralities in the `highschool` network. Use the `node_size` visualisation parameter of the `nx.draw` method to scale the nodes according to their closeness, degree, and betweenness centralities respectively. "
   ]
  },
  {
   "cell_type": "code",
   "execution_count": null,
   "metadata": {},
   "outputs": [],
   "source": []
  },
  {
   "cell_type": "markdown",
   "metadata": {},
   "source": [
    "## Task 2: Random Graph Models\n",
    "\n",
    "### 2.1 G(n,m) model\n",
    "\n",
    "Write a `python` function that starts from an empty network and samples m pairs `i` and `j`, and creates edges between those."
   ]
  },
  {
   "cell_type": "code",
   "execution_count": null,
   "metadata": {},
   "outputs": [],
   "source": []
  },
  {
   "cell_type": "markdown",
   "metadata": {},
   "source": [
    "### 2.2 Degree distribution of G(n,m) model\n",
    "\n",
    "Use your function and the boilerplate code below to create five random networks with $200$ nodes and $300$ links. Visualise the networks, plot their degree distributions and calculate the mean and variance of the distributions."
   ]
  },
  {
   "cell_type": "code",
   "execution_count": null,
   "metadata": {
    "scrolled": false
   },
   "outputs": [],
   "source": []
  },
  {
   "cell_type": "markdown",
   "metadata": {},
   "source": [
    "### 2.3 Empirical degree distributions \n",
    "\n",
    "Plot the histogram of node degrees for the five empirical networks listed in Task 1 (interpreted as undirected networks). Compare the degree distributions to those of a random graph model with the same number of nodes and links."
   ]
  },
  {
   "cell_type": "code",
   "execution_count": null,
   "metadata": {},
   "outputs": [],
   "source": []
  },
  {
   "cell_type": "markdown",
   "metadata": {},
   "source": [
    "## Task 3: Triadic closure in social networks\n",
    "\n",
    "### 3.1 Calculating the clustering coefficient\n",
    "\n",
    "Implement `python` functions that calculate the local and global clustering coefficient in an (undirected) network. Test your method on the small toy example from lecture L03, slide \"Global clustering coefficient\"."
   ]
  },
  {
   "cell_type": "code",
   "execution_count": 16,
   "metadata": {},
   "outputs": [],
   "source": []
  },
  {
   "cell_type": "code",
   "execution_count": null,
   "metadata": {},
   "outputs": [],
   "source": []
  },
  {
   "cell_type": "markdown",
   "metadata": {},
   "source": [
    "### 3.2 Empirical vs. random clustering coefficient\n",
    "\n",
    "Use your function to calculate the global clustering coefficient of the `highschool` data and compare it to the global clustering coefficient in random networks with the same number of nodes and links. Would you say that the level of triadic closure in this social network is significantly higher than what we would expect at random?"
   ]
  },
  {
   "cell_type": "code",
   "execution_count": null,
   "metadata": {},
   "outputs": [],
   "source": []
  }
 ],
 "metadata": {
  "kernelspec": {
   "display_name": "Python 3 (ipykernel)",
   "language": "python",
   "name": "python3"
  },
  "language_info": {
   "codemirror_mode": {
    "name": "ipython",
    "version": 3
   },
   "file_extension": ".py",
   "mimetype": "text/x-python",
   "name": "python",
   "nbconvert_exporter": "python",
   "pygments_lexer": "ipython3",
   "version": "3.12.3"
  }
 },
 "nbformat": 4,
 "nbformat_minor": 1
}
